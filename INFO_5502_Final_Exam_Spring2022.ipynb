{
  "cells": [
    {
      "cell_type": "markdown",
      "metadata": {
        "id": "view-in-github",
        "colab_type": "text"
      },
      "source": [
        "<a href=\"https://colab.research.google.com/github/Muyikem21/Sunday_INFO5502_Spring2022/blob/main/INFO_5502_Final_Exam_Spring2022.ipynb\" target=\"_parent\"><img src=\"https://colab.research.google.com/assets/colab-badge.svg\" alt=\"Open In Colab\"/></a>"
      ]
    },
    {
      "cell_type": "markdown",
      "metadata": {
        "id": "WDkimE-bh-4D"
      },
      "source": [
        "### INFO 5502 Final Exam (05/12/2022, 240 points in total)"
      ]
    },
    {
      "cell_type": "markdown",
      "metadata": {
        "id": "vkbkKTZ0h-4M"
      },
      "source": [
        "<span style='background:yellow'>**Question 3 (100 pt, each sub-question is 10 pt).**</span> \n",
        "\n",
        "Part A: Given Inetd dataset, an intrusion detection dataset that contains 2 columns. The first column represents a process ID number (PID) and the second column represents a system call. The goal is to extract the entire system call sequence by its PID, then tokenize and parse each sequence into 25-grams. After this, we’ll split the data into training and testing sets. Next, we ensure data quality in the training dataset by removing duplicate sequences within each class and overlapped sequences between both classes. To ensure a fair evaluation, we also clean the testing set by repeating the previous step. You will implement a Decision Tree model to train and test on the training set and testing set that we just clean. \n",
        "\n",
        "\n",
        "Part B: As the data type is sequential, we want to know how similar the sequences from both classes are and visualize how the similarity scores vary in different sequence lengths. Compute a cosine similarity score of 100 random pairs from both classes and get a median cosine similarity. Repeat this step in different sequence lengths (5, 10, 15, and 20). Plot a line chart to visualize how the median cosine similarities vary through sequence lengths of 5 to 25. \n",
        "\n",
        "You can download the datasets from github: https://github.com/unt-iialab/info5502-spring2022/tree/main/finalexam/q4\n",
        "\n",
        "\n",
        "Step by step instructions and questions:\n",
        "\n",
        "(1) Attached are the Normal and Intrusion data folders. Read in the data and store them in two separate dataframes. Combine the system calls (the second column) from the same PID (the first column) into a sequence or a string. \n",
        "\n",
        "(2) Parse an entire sequence into smaller sequences of size 25. (Hint: Use word_tokenize and ngrams from nltk library to parse).\n",
        "\n",
        "(3) Add labels to the data, and partition the labeled data into training data and testing data with a ratio of 70/30.\n",
        "\n",
        "(4) As the dataset has a lot of duplicate sequences, make sure that the testing data only contain unique sequences and that these sequences do not exist in the training data. Condense training data and testing data into two sets. Take the difference between the testing set and training set to remove the overlapped sequences from the testing data. \n",
        "\n",
        "(5) The sequences from each class can be repetitive, and some of these sequences may have different labels. Therefore, we need to remove the duplicate sequences within each class and the overlapped sequences from the Intrusion class. Start out by separating the Normal class and Intrusion class in the training data. Use the same concept in Question 4 to remove duplicate sequences and overlapped sequences from the training data.\n",
        "\n",
        "(6) Repeat Question 5 to clean the testing data.\n",
        "\n",
        "(7) Bootstrap the training data to get the same number of sequences from each class. Train and evaluate a Decision Tree model using the training data and testing data that we just clean. How is the performance?\n",
        "\n",
        "(8) Randomly sample 100 pairs of sequences from both classes and calculate the median cosine similarity.\n",
        "\n",
        "(9) Refer back to Question 2, parse the data into a length of 5, 10, 15, and 20. Clean the data from each class using Question 5. For each sequence length, calculate the median cosine similarity of 100 random pairs of sequences from both classes. \n",
        "\n",
        "(10) Plot a line chart to visualize how the median cosine similarities vary through different sequence lengths from 5 to 25.\n"
      ]
    },
    {
      "cell_type": "code",
      "source": [
        "import numpy as np\n",
        "import pandas as pd\n",
        "import matplotlib.pyplot as plt\n",
        "%matplotlib inline\n",
        "intd_intrusion = pd.read_csv(\"https://raw.githubusercontent.com/unt-iialab/info5502-spring2022/main/finalexam/q4/inetd-intrusion.int\", sep = \" \", header = None)\n",
        "intd_normal = pd.read_csv(\"https://raw.githubusercontent.com/unt-iialab/info5502-spring2022/main/finalexam/q4/inetd-normal.int\", sep = \" \", header = None)\n",
        "\n",
        "intd_intrusion.columns = ['PID', 'SystemCalls']\n",
        "intd_intrusion.head(2)\n",
        "\n"
      ],
      "metadata": {
        "colab": {
          "base_uri": "https://localhost:8080/",
          "height": 112
        },
        "id": "t7AjoRmDny6j",
        "outputId": "562b2048-9544-4a18-ccde-4c9c94b446d6"
      },
      "execution_count": 13,
      "outputs": [
        {
          "output_type": "execute_result",
          "data": {
            "text/plain": [
              "   PID  SystemCalls\n",
              "0  167           90\n",
              "1  167          125"
            ],
            "text/html": [
              "\n",
              "  <div id=\"df-4a40ccc6-592f-40f8-95be-0a988dd44eda\">\n",
              "    <div class=\"colab-df-container\">\n",
              "      <div>\n",
              "<style scoped>\n",
              "    .dataframe tbody tr th:only-of-type {\n",
              "        vertical-align: middle;\n",
              "    }\n",
              "\n",
              "    .dataframe tbody tr th {\n",
              "        vertical-align: top;\n",
              "    }\n",
              "\n",
              "    .dataframe thead th {\n",
              "        text-align: right;\n",
              "    }\n",
              "</style>\n",
              "<table border=\"1\" class=\"dataframe\">\n",
              "  <thead>\n",
              "    <tr style=\"text-align: right;\">\n",
              "      <th></th>\n",
              "      <th>PID</th>\n",
              "      <th>SystemCalls</th>\n",
              "    </tr>\n",
              "  </thead>\n",
              "  <tbody>\n",
              "    <tr>\n",
              "      <th>0</th>\n",
              "      <td>167</td>\n",
              "      <td>90</td>\n",
              "    </tr>\n",
              "    <tr>\n",
              "      <th>1</th>\n",
              "      <td>167</td>\n",
              "      <td>125</td>\n",
              "    </tr>\n",
              "  </tbody>\n",
              "</table>\n",
              "</div>\n",
              "      <button class=\"colab-df-convert\" onclick=\"convertToInteractive('df-4a40ccc6-592f-40f8-95be-0a988dd44eda')\"\n",
              "              title=\"Convert this dataframe to an interactive table.\"\n",
              "              style=\"display:none;\">\n",
              "        \n",
              "  <svg xmlns=\"http://www.w3.org/2000/svg\" height=\"24px\"viewBox=\"0 0 24 24\"\n",
              "       width=\"24px\">\n",
              "    <path d=\"M0 0h24v24H0V0z\" fill=\"none\"/>\n",
              "    <path d=\"M18.56 5.44l.94 2.06.94-2.06 2.06-.94-2.06-.94-.94-2.06-.94 2.06-2.06.94zm-11 1L8.5 8.5l.94-2.06 2.06-.94-2.06-.94L8.5 2.5l-.94 2.06-2.06.94zm10 10l.94 2.06.94-2.06 2.06-.94-2.06-.94-.94-2.06-.94 2.06-2.06.94z\"/><path d=\"M17.41 7.96l-1.37-1.37c-.4-.4-.92-.59-1.43-.59-.52 0-1.04.2-1.43.59L10.3 9.45l-7.72 7.72c-.78.78-.78 2.05 0 2.83L4 21.41c.39.39.9.59 1.41.59.51 0 1.02-.2 1.41-.59l7.78-7.78 2.81-2.81c.8-.78.8-2.07 0-2.86zM5.41 20L4 18.59l7.72-7.72 1.47 1.35L5.41 20z\"/>\n",
              "  </svg>\n",
              "      </button>\n",
              "      \n",
              "  <style>\n",
              "    .colab-df-container {\n",
              "      display:flex;\n",
              "      flex-wrap:wrap;\n",
              "      gap: 12px;\n",
              "    }\n",
              "\n",
              "    .colab-df-convert {\n",
              "      background-color: #E8F0FE;\n",
              "      border: none;\n",
              "      border-radius: 50%;\n",
              "      cursor: pointer;\n",
              "      display: none;\n",
              "      fill: #1967D2;\n",
              "      height: 32px;\n",
              "      padding: 0 0 0 0;\n",
              "      width: 32px;\n",
              "    }\n",
              "\n",
              "    .colab-df-convert:hover {\n",
              "      background-color: #E2EBFA;\n",
              "      box-shadow: 0px 1px 2px rgba(60, 64, 67, 0.3), 0px 1px 3px 1px rgba(60, 64, 67, 0.15);\n",
              "      fill: #174EA6;\n",
              "    }\n",
              "\n",
              "    [theme=dark] .colab-df-convert {\n",
              "      background-color: #3B4455;\n",
              "      fill: #D2E3FC;\n",
              "    }\n",
              "\n",
              "    [theme=dark] .colab-df-convert:hover {\n",
              "      background-color: #434B5C;\n",
              "      box-shadow: 0px 1px 3px 1px rgba(0, 0, 0, 0.15);\n",
              "      filter: drop-shadow(0px 1px 2px rgba(0, 0, 0, 0.3));\n",
              "      fill: #FFFFFF;\n",
              "    }\n",
              "  </style>\n",
              "\n",
              "      <script>\n",
              "        const buttonEl =\n",
              "          document.querySelector('#df-4a40ccc6-592f-40f8-95be-0a988dd44eda button.colab-df-convert');\n",
              "        buttonEl.style.display =\n",
              "          google.colab.kernel.accessAllowed ? 'block' : 'none';\n",
              "\n",
              "        async function convertToInteractive(key) {\n",
              "          const element = document.querySelector('#df-4a40ccc6-592f-40f8-95be-0a988dd44eda');\n",
              "          const dataTable =\n",
              "            await google.colab.kernel.invokeFunction('convertToInteractive',\n",
              "                                                     [key], {});\n",
              "          if (!dataTable) return;\n",
              "\n",
              "          const docLinkHtml = 'Like what you see? Visit the ' +\n",
              "            '<a target=\"_blank\" href=https://colab.research.google.com/notebooks/data_table.ipynb>data table notebook</a>'\n",
              "            + ' to learn more about interactive tables.';\n",
              "          element.innerHTML = '';\n",
              "          dataTable['output_type'] = 'display_data';\n",
              "          await google.colab.output.renderOutput(dataTable, element);\n",
              "          const docLink = document.createElement('div');\n",
              "          docLink.innerHTML = docLinkHtml;\n",
              "          element.appendChild(docLink);\n",
              "        }\n",
              "      </script>\n",
              "    </div>\n",
              "  </div>\n",
              "  "
            ]
          },
          "metadata": {},
          "execution_count": 13
        }
      ]
    },
    {
      "cell_type": "code",
      "source": [
        "intd_normal.columns = ['PID', 'SystemCalls']\n",
        "intd_normal.head(2)\n"
      ],
      "metadata": {
        "colab": {
          "base_uri": "https://localhost:8080/",
          "height": 112
        },
        "id": "elnynGgU2Tw6",
        "outputId": "9d8b21e9-338c-4112-cc33-ec980585df26"
      },
      "execution_count": 14,
      "outputs": [
        {
          "output_type": "execute_result",
          "data": {
            "text/plain": [
              "   PID  SystemCalls\n",
              "0  167           90\n",
              "1  167          125"
            ],
            "text/html": [
              "\n",
              "  <div id=\"df-cc6d964c-eaa7-4b24-8eb5-fbac1c798fa4\">\n",
              "    <div class=\"colab-df-container\">\n",
              "      <div>\n",
              "<style scoped>\n",
              "    .dataframe tbody tr th:only-of-type {\n",
              "        vertical-align: middle;\n",
              "    }\n",
              "\n",
              "    .dataframe tbody tr th {\n",
              "        vertical-align: top;\n",
              "    }\n",
              "\n",
              "    .dataframe thead th {\n",
              "        text-align: right;\n",
              "    }\n",
              "</style>\n",
              "<table border=\"1\" class=\"dataframe\">\n",
              "  <thead>\n",
              "    <tr style=\"text-align: right;\">\n",
              "      <th></th>\n",
              "      <th>PID</th>\n",
              "      <th>SystemCalls</th>\n",
              "    </tr>\n",
              "  </thead>\n",
              "  <tbody>\n",
              "    <tr>\n",
              "      <th>0</th>\n",
              "      <td>167</td>\n",
              "      <td>90</td>\n",
              "    </tr>\n",
              "    <tr>\n",
              "      <th>1</th>\n",
              "      <td>167</td>\n",
              "      <td>125</td>\n",
              "    </tr>\n",
              "  </tbody>\n",
              "</table>\n",
              "</div>\n",
              "      <button class=\"colab-df-convert\" onclick=\"convertToInteractive('df-cc6d964c-eaa7-4b24-8eb5-fbac1c798fa4')\"\n",
              "              title=\"Convert this dataframe to an interactive table.\"\n",
              "              style=\"display:none;\">\n",
              "        \n",
              "  <svg xmlns=\"http://www.w3.org/2000/svg\" height=\"24px\"viewBox=\"0 0 24 24\"\n",
              "       width=\"24px\">\n",
              "    <path d=\"M0 0h24v24H0V0z\" fill=\"none\"/>\n",
              "    <path d=\"M18.56 5.44l.94 2.06.94-2.06 2.06-.94-2.06-.94-.94-2.06-.94 2.06-2.06.94zm-11 1L8.5 8.5l.94-2.06 2.06-.94-2.06-.94L8.5 2.5l-.94 2.06-2.06.94zm10 10l.94 2.06.94-2.06 2.06-.94-2.06-.94-.94-2.06-.94 2.06-2.06.94z\"/><path d=\"M17.41 7.96l-1.37-1.37c-.4-.4-.92-.59-1.43-.59-.52 0-1.04.2-1.43.59L10.3 9.45l-7.72 7.72c-.78.78-.78 2.05 0 2.83L4 21.41c.39.39.9.59 1.41.59.51 0 1.02-.2 1.41-.59l7.78-7.78 2.81-2.81c.8-.78.8-2.07 0-2.86zM5.41 20L4 18.59l7.72-7.72 1.47 1.35L5.41 20z\"/>\n",
              "  </svg>\n",
              "      </button>\n",
              "      \n",
              "  <style>\n",
              "    .colab-df-container {\n",
              "      display:flex;\n",
              "      flex-wrap:wrap;\n",
              "      gap: 12px;\n",
              "    }\n",
              "\n",
              "    .colab-df-convert {\n",
              "      background-color: #E8F0FE;\n",
              "      border: none;\n",
              "      border-radius: 50%;\n",
              "      cursor: pointer;\n",
              "      display: none;\n",
              "      fill: #1967D2;\n",
              "      height: 32px;\n",
              "      padding: 0 0 0 0;\n",
              "      width: 32px;\n",
              "    }\n",
              "\n",
              "    .colab-df-convert:hover {\n",
              "      background-color: #E2EBFA;\n",
              "      box-shadow: 0px 1px 2px rgba(60, 64, 67, 0.3), 0px 1px 3px 1px rgba(60, 64, 67, 0.15);\n",
              "      fill: #174EA6;\n",
              "    }\n",
              "\n",
              "    [theme=dark] .colab-df-convert {\n",
              "      background-color: #3B4455;\n",
              "      fill: #D2E3FC;\n",
              "    }\n",
              "\n",
              "    [theme=dark] .colab-df-convert:hover {\n",
              "      background-color: #434B5C;\n",
              "      box-shadow: 0px 1px 3px 1px rgba(0, 0, 0, 0.15);\n",
              "      filter: drop-shadow(0px 1px 2px rgba(0, 0, 0, 0.3));\n",
              "      fill: #FFFFFF;\n",
              "    }\n",
              "  </style>\n",
              "\n",
              "      <script>\n",
              "        const buttonEl =\n",
              "          document.querySelector('#df-cc6d964c-eaa7-4b24-8eb5-fbac1c798fa4 button.colab-df-convert');\n",
              "        buttonEl.style.display =\n",
              "          google.colab.kernel.accessAllowed ? 'block' : 'none';\n",
              "\n",
              "        async function convertToInteractive(key) {\n",
              "          const element = document.querySelector('#df-cc6d964c-eaa7-4b24-8eb5-fbac1c798fa4');\n",
              "          const dataTable =\n",
              "            await google.colab.kernel.invokeFunction('convertToInteractive',\n",
              "                                                     [key], {});\n",
              "          if (!dataTable) return;\n",
              "\n",
              "          const docLinkHtml = 'Like what you see? Visit the ' +\n",
              "            '<a target=\"_blank\" href=https://colab.research.google.com/notebooks/data_table.ipynb>data table notebook</a>'\n",
              "            + ' to learn more about interactive tables.';\n",
              "          element.innerHTML = '';\n",
              "          dataTable['output_type'] = 'display_data';\n",
              "          await google.colab.output.renderOutput(dataTable, element);\n",
              "          const docLink = document.createElement('div');\n",
              "          docLink.innerHTML = docLinkHtml;\n",
              "          element.appendChild(docLink);\n",
              "        }\n",
              "      </script>\n",
              "    </div>\n",
              "  </div>\n",
              "  "
            ]
          },
          "metadata": {},
          "execution_count": 14
        }
      ]
    },
    {
      "cell_type": "code",
      "source": [
        "#The description of the data\n",
        "intd_intrusion.describe()\n"
      ],
      "metadata": {
        "colab": {
          "base_uri": "https://localhost:8080/",
          "height": 300
        },
        "id": "lI3btpGD2bFz",
        "outputId": "e8575111-3806-4a10-fab9-c92603e32a18"
      },
      "execution_count": 15,
      "outputs": [
        {
          "output_type": "execute_result",
          "data": {
            "text/plain": [
              "               PID  SystemCalls\n",
              "count  8371.000000  8371.000000\n",
              "mean   4093.249074    13.621192\n",
              "std    1154.934136    25.679120\n",
              "min     167.000000     1.000000\n",
              "25%    4447.000000     6.000000\n",
              "50%    4455.000000     6.000000\n",
              "75%    4463.000000     6.000000\n",
              "max    4470.000000   136.000000"
            ],
            "text/html": [
              "\n",
              "  <div id=\"df-362ae177-4cf8-4e66-b7ab-216014d77a8a\">\n",
              "    <div class=\"colab-df-container\">\n",
              "      <div>\n",
              "<style scoped>\n",
              "    .dataframe tbody tr th:only-of-type {\n",
              "        vertical-align: middle;\n",
              "    }\n",
              "\n",
              "    .dataframe tbody tr th {\n",
              "        vertical-align: top;\n",
              "    }\n",
              "\n",
              "    .dataframe thead th {\n",
              "        text-align: right;\n",
              "    }\n",
              "</style>\n",
              "<table border=\"1\" class=\"dataframe\">\n",
              "  <thead>\n",
              "    <tr style=\"text-align: right;\">\n",
              "      <th></th>\n",
              "      <th>PID</th>\n",
              "      <th>SystemCalls</th>\n",
              "    </tr>\n",
              "  </thead>\n",
              "  <tbody>\n",
              "    <tr>\n",
              "      <th>count</th>\n",
              "      <td>8371.000000</td>\n",
              "      <td>8371.000000</td>\n",
              "    </tr>\n",
              "    <tr>\n",
              "      <th>mean</th>\n",
              "      <td>4093.249074</td>\n",
              "      <td>13.621192</td>\n",
              "    </tr>\n",
              "    <tr>\n",
              "      <th>std</th>\n",
              "      <td>1154.934136</td>\n",
              "      <td>25.679120</td>\n",
              "    </tr>\n",
              "    <tr>\n",
              "      <th>min</th>\n",
              "      <td>167.000000</td>\n",
              "      <td>1.000000</td>\n",
              "    </tr>\n",
              "    <tr>\n",
              "      <th>25%</th>\n",
              "      <td>4447.000000</td>\n",
              "      <td>6.000000</td>\n",
              "    </tr>\n",
              "    <tr>\n",
              "      <th>50%</th>\n",
              "      <td>4455.000000</td>\n",
              "      <td>6.000000</td>\n",
              "    </tr>\n",
              "    <tr>\n",
              "      <th>75%</th>\n",
              "      <td>4463.000000</td>\n",
              "      <td>6.000000</td>\n",
              "    </tr>\n",
              "    <tr>\n",
              "      <th>max</th>\n",
              "      <td>4470.000000</td>\n",
              "      <td>136.000000</td>\n",
              "    </tr>\n",
              "  </tbody>\n",
              "</table>\n",
              "</div>\n",
              "      <button class=\"colab-df-convert\" onclick=\"convertToInteractive('df-362ae177-4cf8-4e66-b7ab-216014d77a8a')\"\n",
              "              title=\"Convert this dataframe to an interactive table.\"\n",
              "              style=\"display:none;\">\n",
              "        \n",
              "  <svg xmlns=\"http://www.w3.org/2000/svg\" height=\"24px\"viewBox=\"0 0 24 24\"\n",
              "       width=\"24px\">\n",
              "    <path d=\"M0 0h24v24H0V0z\" fill=\"none\"/>\n",
              "    <path d=\"M18.56 5.44l.94 2.06.94-2.06 2.06-.94-2.06-.94-.94-2.06-.94 2.06-2.06.94zm-11 1L8.5 8.5l.94-2.06 2.06-.94-2.06-.94L8.5 2.5l-.94 2.06-2.06.94zm10 10l.94 2.06.94-2.06 2.06-.94-2.06-.94-.94-2.06-.94 2.06-2.06.94z\"/><path d=\"M17.41 7.96l-1.37-1.37c-.4-.4-.92-.59-1.43-.59-.52 0-1.04.2-1.43.59L10.3 9.45l-7.72 7.72c-.78.78-.78 2.05 0 2.83L4 21.41c.39.39.9.59 1.41.59.51 0 1.02-.2 1.41-.59l7.78-7.78 2.81-2.81c.8-.78.8-2.07 0-2.86zM5.41 20L4 18.59l7.72-7.72 1.47 1.35L5.41 20z\"/>\n",
              "  </svg>\n",
              "      </button>\n",
              "      \n",
              "  <style>\n",
              "    .colab-df-container {\n",
              "      display:flex;\n",
              "      flex-wrap:wrap;\n",
              "      gap: 12px;\n",
              "    }\n",
              "\n",
              "    .colab-df-convert {\n",
              "      background-color: #E8F0FE;\n",
              "      border: none;\n",
              "      border-radius: 50%;\n",
              "      cursor: pointer;\n",
              "      display: none;\n",
              "      fill: #1967D2;\n",
              "      height: 32px;\n",
              "      padding: 0 0 0 0;\n",
              "      width: 32px;\n",
              "    }\n",
              "\n",
              "    .colab-df-convert:hover {\n",
              "      background-color: #E2EBFA;\n",
              "      box-shadow: 0px 1px 2px rgba(60, 64, 67, 0.3), 0px 1px 3px 1px rgba(60, 64, 67, 0.15);\n",
              "      fill: #174EA6;\n",
              "    }\n",
              "\n",
              "    [theme=dark] .colab-df-convert {\n",
              "      background-color: #3B4455;\n",
              "      fill: #D2E3FC;\n",
              "    }\n",
              "\n",
              "    [theme=dark] .colab-df-convert:hover {\n",
              "      background-color: #434B5C;\n",
              "      box-shadow: 0px 1px 3px 1px rgba(0, 0, 0, 0.15);\n",
              "      filter: drop-shadow(0px 1px 2px rgba(0, 0, 0, 0.3));\n",
              "      fill: #FFFFFF;\n",
              "    }\n",
              "  </style>\n",
              "\n",
              "      <script>\n",
              "        const buttonEl =\n",
              "          document.querySelector('#df-362ae177-4cf8-4e66-b7ab-216014d77a8a button.colab-df-convert');\n",
              "        buttonEl.style.display =\n",
              "          google.colab.kernel.accessAllowed ? 'block' : 'none';\n",
              "\n",
              "        async function convertToInteractive(key) {\n",
              "          const element = document.querySelector('#df-362ae177-4cf8-4e66-b7ab-216014d77a8a');\n",
              "          const dataTable =\n",
              "            await google.colab.kernel.invokeFunction('convertToInteractive',\n",
              "                                                     [key], {});\n",
              "          if (!dataTable) return;\n",
              "\n",
              "          const docLinkHtml = 'Like what you see? Visit the ' +\n",
              "            '<a target=\"_blank\" href=https://colab.research.google.com/notebooks/data_table.ipynb>data table notebook</a>'\n",
              "            + ' to learn more about interactive tables.';\n",
              "          element.innerHTML = '';\n",
              "          dataTable['output_type'] = 'display_data';\n",
              "          await google.colab.output.renderOutput(dataTable, element);\n",
              "          const docLink = document.createElement('div');\n",
              "          docLink.innerHTML = docLinkHtml;\n",
              "          element.appendChild(docLink);\n",
              "        }\n",
              "      </script>\n",
              "    </div>\n",
              "  </div>\n",
              "  "
            ]
          },
          "metadata": {},
          "execution_count": 15
        }
      ]
    },
    {
      "cell_type": "code",
      "source": [
        "intd_normal.describe()"
      ],
      "metadata": {
        "colab": {
          "base_uri": "https://localhost:8080/",
          "height": 300
        },
        "id": "mwha-KiT3l2v",
        "outputId": "66f7611e-ee2c-4c0e-eaad-8805a08e6d3b"
      },
      "execution_count": 16,
      "outputs": [
        {
          "output_type": "execute_result",
          "data": {
            "text/plain": [
              "               PID  SystemCalls\n",
              "count   541.000000   541.000000\n",
              "mean   1397.634011    40.417745\n",
              "std    1251.546012    46.519004\n",
              "min     167.000000     1.000000\n",
              "25%     168.000000     6.000000\n",
              "50%     168.000000     6.000000\n",
              "75%    2669.000000    91.000000\n",
              "max    2669.000000   136.000000"
            ],
            "text/html": [
              "\n",
              "  <div id=\"df-4b01e515-baf0-4ab7-bd2d-76b33bf5f885\">\n",
              "    <div class=\"colab-df-container\">\n",
              "      <div>\n",
              "<style scoped>\n",
              "    .dataframe tbody tr th:only-of-type {\n",
              "        vertical-align: middle;\n",
              "    }\n",
              "\n",
              "    .dataframe tbody tr th {\n",
              "        vertical-align: top;\n",
              "    }\n",
              "\n",
              "    .dataframe thead th {\n",
              "        text-align: right;\n",
              "    }\n",
              "</style>\n",
              "<table border=\"1\" class=\"dataframe\">\n",
              "  <thead>\n",
              "    <tr style=\"text-align: right;\">\n",
              "      <th></th>\n",
              "      <th>PID</th>\n",
              "      <th>SystemCalls</th>\n",
              "    </tr>\n",
              "  </thead>\n",
              "  <tbody>\n",
              "    <tr>\n",
              "      <th>count</th>\n",
              "      <td>541.000000</td>\n",
              "      <td>541.000000</td>\n",
              "    </tr>\n",
              "    <tr>\n",
              "      <th>mean</th>\n",
              "      <td>1397.634011</td>\n",
              "      <td>40.417745</td>\n",
              "    </tr>\n",
              "    <tr>\n",
              "      <th>std</th>\n",
              "      <td>1251.546012</td>\n",
              "      <td>46.519004</td>\n",
              "    </tr>\n",
              "    <tr>\n",
              "      <th>min</th>\n",
              "      <td>167.000000</td>\n",
              "      <td>1.000000</td>\n",
              "    </tr>\n",
              "    <tr>\n",
              "      <th>25%</th>\n",
              "      <td>168.000000</td>\n",
              "      <td>6.000000</td>\n",
              "    </tr>\n",
              "    <tr>\n",
              "      <th>50%</th>\n",
              "      <td>168.000000</td>\n",
              "      <td>6.000000</td>\n",
              "    </tr>\n",
              "    <tr>\n",
              "      <th>75%</th>\n",
              "      <td>2669.000000</td>\n",
              "      <td>91.000000</td>\n",
              "    </tr>\n",
              "    <tr>\n",
              "      <th>max</th>\n",
              "      <td>2669.000000</td>\n",
              "      <td>136.000000</td>\n",
              "    </tr>\n",
              "  </tbody>\n",
              "</table>\n",
              "</div>\n",
              "      <button class=\"colab-df-convert\" onclick=\"convertToInteractive('df-4b01e515-baf0-4ab7-bd2d-76b33bf5f885')\"\n",
              "              title=\"Convert this dataframe to an interactive table.\"\n",
              "              style=\"display:none;\">\n",
              "        \n",
              "  <svg xmlns=\"http://www.w3.org/2000/svg\" height=\"24px\"viewBox=\"0 0 24 24\"\n",
              "       width=\"24px\">\n",
              "    <path d=\"M0 0h24v24H0V0z\" fill=\"none\"/>\n",
              "    <path d=\"M18.56 5.44l.94 2.06.94-2.06 2.06-.94-2.06-.94-.94-2.06-.94 2.06-2.06.94zm-11 1L8.5 8.5l.94-2.06 2.06-.94-2.06-.94L8.5 2.5l-.94 2.06-2.06.94zm10 10l.94 2.06.94-2.06 2.06-.94-2.06-.94-.94-2.06-.94 2.06-2.06.94z\"/><path d=\"M17.41 7.96l-1.37-1.37c-.4-.4-.92-.59-1.43-.59-.52 0-1.04.2-1.43.59L10.3 9.45l-7.72 7.72c-.78.78-.78 2.05 0 2.83L4 21.41c.39.39.9.59 1.41.59.51 0 1.02-.2 1.41-.59l7.78-7.78 2.81-2.81c.8-.78.8-2.07 0-2.86zM5.41 20L4 18.59l7.72-7.72 1.47 1.35L5.41 20z\"/>\n",
              "  </svg>\n",
              "      </button>\n",
              "      \n",
              "  <style>\n",
              "    .colab-df-container {\n",
              "      display:flex;\n",
              "      flex-wrap:wrap;\n",
              "      gap: 12px;\n",
              "    }\n",
              "\n",
              "    .colab-df-convert {\n",
              "      background-color: #E8F0FE;\n",
              "      border: none;\n",
              "      border-radius: 50%;\n",
              "      cursor: pointer;\n",
              "      display: none;\n",
              "      fill: #1967D2;\n",
              "      height: 32px;\n",
              "      padding: 0 0 0 0;\n",
              "      width: 32px;\n",
              "    }\n",
              "\n",
              "    .colab-df-convert:hover {\n",
              "      background-color: #E2EBFA;\n",
              "      box-shadow: 0px 1px 2px rgba(60, 64, 67, 0.3), 0px 1px 3px 1px rgba(60, 64, 67, 0.15);\n",
              "      fill: #174EA6;\n",
              "    }\n",
              "\n",
              "    [theme=dark] .colab-df-convert {\n",
              "      background-color: #3B4455;\n",
              "      fill: #D2E3FC;\n",
              "    }\n",
              "\n",
              "    [theme=dark] .colab-df-convert:hover {\n",
              "      background-color: #434B5C;\n",
              "      box-shadow: 0px 1px 3px 1px rgba(0, 0, 0, 0.15);\n",
              "      filter: drop-shadow(0px 1px 2px rgba(0, 0, 0, 0.3));\n",
              "      fill: #FFFFFF;\n",
              "    }\n",
              "  </style>\n",
              "\n",
              "      <script>\n",
              "        const buttonEl =\n",
              "          document.querySelector('#df-4b01e515-baf0-4ab7-bd2d-76b33bf5f885 button.colab-df-convert');\n",
              "        buttonEl.style.display =\n",
              "          google.colab.kernel.accessAllowed ? 'block' : 'none';\n",
              "\n",
              "        async function convertToInteractive(key) {\n",
              "          const element = document.querySelector('#df-4b01e515-baf0-4ab7-bd2d-76b33bf5f885');\n",
              "          const dataTable =\n",
              "            await google.colab.kernel.invokeFunction('convertToInteractive',\n",
              "                                                     [key], {});\n",
              "          if (!dataTable) return;\n",
              "\n",
              "          const docLinkHtml = 'Like what you see? Visit the ' +\n",
              "            '<a target=\"_blank\" href=https://colab.research.google.com/notebooks/data_table.ipynb>data table notebook</a>'\n",
              "            + ' to learn more about interactive tables.';\n",
              "          element.innerHTML = '';\n",
              "          dataTable['output_type'] = 'display_data';\n",
              "          await google.colab.output.renderOutput(dataTable, element);\n",
              "          const docLink = document.createElement('div');\n",
              "          docLink.innerHTML = docLinkHtml;\n",
              "          element.appendChild(docLink);\n",
              "        }\n",
              "      </script>\n",
              "    </div>\n",
              "  </div>\n",
              "  "
            ]
          },
          "metadata": {},
          "execution_count": 16
        }
      ]
    },
    {
      "cell_type": "markdown",
      "source": [
        "It is evident from the results that all the parameters in the intrusion, both the PID and Systemscalls are larger than that of normal. They both have the minimum value as 167."
      ],
      "metadata": {
        "id": "zVG41FQT35DF"
      }
    },
    {
      "cell_type": "code",
      "source": [
        "# We want to know the shape of the data.\n",
        "intd_intrusion.shape"
      ],
      "metadata": {
        "colab": {
          "base_uri": "https://localhost:8080/"
        },
        "id": "diNl3wuF5Vev",
        "outputId": "c0cebba4-ecd3-4e27-be99-9a55dffd4cba"
      },
      "execution_count": 18,
      "outputs": [
        {
          "output_type": "execute_result",
          "data": {
            "text/plain": [
              "(8371, 2)"
            ]
          },
          "metadata": {},
          "execution_count": 18
        }
      ]
    },
    {
      "cell_type": "markdown",
      "source": [
        "Intrusion has 8,371 rows and 2 columns"
      ],
      "metadata": {
        "id": "SKfm6dgN5-5d"
      }
    },
    {
      "cell_type": "code",
      "source": [
        "intd_normal.shape"
      ],
      "metadata": {
        "colab": {
          "base_uri": "https://localhost:8080/"
        },
        "id": "F_N7TsGS52n9",
        "outputId": "d6e57927-a4e5-4b05-af77-47c2ab8ec646"
      },
      "execution_count": 19,
      "outputs": [
        {
          "output_type": "execute_result",
          "data": {
            "text/plain": [
              "(541, 2)"
            ]
          },
          "metadata": {},
          "execution_count": 19
        }
      ]
    },
    {
      "cell_type": "markdown",
      "source": [
        "Normal has 541 rows and 2 columns.\n",
        "One can now understand why the parameters of intrusion are larger in values than that of normal. The number of rows in intrusion is 15 times of the rows in normal."
      ],
      "metadata": {
        "id": "4N70PVCD6O8A"
      }
    },
    {
      "cell_type": "code",
      "source": [
        "#We want to check if there is any missing value.\n",
        "print(intd_normal.any().isna())\n",
        "print('No null values \\n')\n",
        "print(intd_intrusion.any().isna())\n",
        "print('No null values')"
      ],
      "metadata": {
        "colab": {
          "base_uri": "https://localhost:8080/"
        },
        "id": "9GJVxuay7AMy",
        "outputId": "c6c603b6-bd9d-4f15-ff2d-a27bb080f27c"
      },
      "execution_count": 20,
      "outputs": [
        {
          "output_type": "stream",
          "name": "stdout",
          "text": [
            "PID            False\n",
            "SystemCalls    False\n",
            "dtype: bool\n",
            "No null values \n",
            "\n",
            "PID            False\n",
            "SystemCalls    False\n",
            "dtype: bool\n",
            "No null values\n"
          ]
        }
      ]
    },
    {
      "cell_type": "markdown",
      "source": [
        "The above results show that there is no missing values in both intrusion and normal dataset."
      ],
      "metadata": {
        "id": "6IQOVu547aWe"
      }
    },
    {
      "cell_type": "code",
      "source": [
        "#Here, we are creating two dictionaries\n",
        "dict_intd_intrusion = {}\n",
        "dict_intd_normal = {}\n",
        "\n",
        "#Systems calls are brought together.\n",
        "for pid in list(set(intd_intrusion['PID'].values)):\n",
        "    dict_intd_intrusion[pid] = \" \".join(str(value) for value in list(intd_intrusion[intd_intrusion['PID'] == pid]['SystemCalls'].values))\n",
        "\n",
        "for pid in list(set(intd_normal['PID'].values)):\n",
        "    dict_intd_normal[pid] = \" \".join(str(value) for value in list(intd_normal[intd_normal['PID'] == pid]['SystemCalls'].values))\n",
        "\n",
        "dict_intd_intrusion[167]"
      ],
      "metadata": {
        "colab": {
          "base_uri": "https://localhost:8080/",
          "height": 36
        },
        "id": "PvBGmKq_7lB-",
        "outputId": "10c4399a-72ad-43b5-efdf-5e298a2cd217"
      },
      "execution_count": 21,
      "outputs": [
        {
          "output_type": "execute_result",
          "data": {
            "text/plain": [
              "'90 125 125 106 5 90 6 5 3 90 90 90 90 6 125 91 125 125 125 136 49 24 47 50 45 45 5 106 106 106 106 106 2 1'"
            ],
            "application/vnd.google.colaboratory.intrinsic+json": {
              "type": "string"
            }
          },
          "metadata": {},
          "execution_count": 21
        }
      ]
    },
    {
      "cell_type": "code",
      "source": [
        "#Libraries needed are imported.\n",
        "import re\n",
        "from nltk.util import ngrams\n",
        "list_intrusion = []\n",
        "list_normal = []\n",
        "\n",
        "#Here, we want to generate ngrams with sequence length of 25\n",
        "for key in dict_intd_intrusion.keys():\n",
        "    s = dict_intd_intrusion[key]\n",
        "    tokens = [token for token in s.split(\" \") if token != \"\"]\n",
        "    \n",
        "    for ele in list(ngrams(tokens, 25)):\n",
        "        list_intrusion.append(ele)\n",
        "        \n",
        "for key in dict_intd_normal.keys():\n",
        "    s = dict_intd_normal[key]\n",
        "    tokens = [token for token in s.split(\" \") if token != \"\"]\n",
        "    \n",
        "    for ele in list(ngrams(tokens, 25)):\n",
        "        list_normal.append(ele) \n",
        "print(len(list_intrusion))\n",
        "print(len(list_normal))"
      ],
      "metadata": {
        "colab": {
          "base_uri": "https://localhost:8080/"
        },
        "id": "Vkem7QaO4pSg",
        "outputId": "78273c9e-0985-4646-f97c-631e219fc43f"
      },
      "execution_count": 22,
      "outputs": [
        {
          "output_type": "stream",
          "name": "stdout",
          "text": [
            "7627\n",
            "469\n"
          ]
        }
      ]
    },
    {
      "cell_type": "code",
      "source": [
        "#The data are transformed into dataframes\n",
        "intd_intrusion1 = pd.DataFrame(list_intrusion)\n",
        "intd_normal1 = pd.DataFrame(list_normal)\n",
        "\n",
        "# adding labels to intrusion and normal data sequences\n",
        "intd_intrusion['class'] = 1\n",
        "intd_normal['class'] = 0\n",
        "\n",
        "intd_intrusion1.shape\n"
      ],
      "metadata": {
        "colab": {
          "base_uri": "https://localhost:8080/"
        },
        "id": "0moyD0C29mIp",
        "outputId": "d31e941e-a64e-428a-c31d-cda36a621b87"
      },
      "execution_count": 24,
      "outputs": [
        {
          "output_type": "execute_result",
          "data": {
            "text/plain": [
              "(7627, 25)"
            ]
          },
          "metadata": {},
          "execution_count": 24
        }
      ]
    },
    {
      "cell_type": "code",
      "source": [
        "intd_normal1.shape"
      ],
      "metadata": {
        "colab": {
          "base_uri": "https://localhost:8080/"
        },
        "id": "XQ2V8Bso-WwM",
        "outputId": "ba1022e0-f680-4c86-f375-9f0ebe893799"
      },
      "execution_count": 25,
      "outputs": [
        {
          "output_type": "execute_result",
          "data": {
            "text/plain": [
              "(469, 25)"
            ]
          },
          "metadata": {},
          "execution_count": 25
        }
      ]
    },
    {
      "cell_type": "code",
      "source": [
        "combined_data = pd.DataFrame()\n",
        "\n",
        "combined_data = combined_data.append(intd_intrusion1)\n",
        "combined_data = combined_data.append(intd_normal1)\n",
        "\n",
        "combined_data.shape"
      ],
      "metadata": {
        "colab": {
          "base_uri": "https://localhost:8080/"
        },
        "id": "iRZs5KXa-ZsO",
        "outputId": "2da12a68-cb1f-41e3-d3e3-985fd61f0986"
      },
      "execution_count": 26,
      "outputs": [
        {
          "output_type": "execute_result",
          "data": {
            "text/plain": [
              "(8096, 25)"
            ]
          },
          "metadata": {},
          "execution_count": 26
        }
      ]
    },
    {
      "cell_type": "code",
      "source": [
        "combined_data = combined_data.drop_duplicates(subset = combined_data.columns[:-1], keep = 'last')\n",
        "combined_data.shape"
      ],
      "metadata": {
        "colab": {
          "base_uri": "https://localhost:8080/"
        },
        "id": "EUgJ69c6-4OP",
        "outputId": "f43b248d-2713-4eb2-86ee-f9e6b6cb6372"
      },
      "execution_count": 27,
      "outputs": [
        {
          "output_type": "execute_result",
          "data": {
            "text/plain": [
              "(322, 25)"
            ]
          },
          "metadata": {},
          "execution_count": 27
        }
      ]
    },
    {
      "cell_type": "code",
      "source": [
        "combined_data.columns[:-1]"
      ],
      "metadata": {
        "colab": {
          "base_uri": "https://localhost:8080/"
        },
        "id": "ZBjKoDNK-7zd",
        "outputId": "79020e1d-9fe1-4897-e1f6-96355bab90cd"
      },
      "execution_count": 29,
      "outputs": [
        {
          "output_type": "execute_result",
          "data": {
            "text/plain": [
              "RangeIndex(start=0, stop=24, step=1)"
            ]
          },
          "metadata": {},
          "execution_count": 29
        }
      ]
    },
    {
      "cell_type": "markdown",
      "source": [
        "(0,1,2,3,4,5,6,7,8,9,10,11,12,13,14,15,16,17,18,19,20,21,22,23,24)"
      ],
      "metadata": {
        "id": "aqNmKSld_WIK"
      }
    },
    {
      "cell_type": "code",
      "source": [
        "#Build a decision tree, we would import the appropriate libraries\n",
        "from sklearn.tree import DecisionTreeClassifier\n",
        "from sklearn import preprocessing\n",
        "from sklearn.metrics import classification_report\n",
        "from sklearn.model_selection import train_test_split\n",
        "x = combined_data.drop(\"class\", axis = 1)\n",
        "y = combined_data[\"class\"]\n",
        "#Spiltting the data into 70/30 \n",
        "x_train, x_test, y_train, y_test = train_test_split(x, y, test_size = 0.3, random_state = 5)\n",
        "#Defining the Decision Tree\n",
        "DT = DecisionTreeClassifier(max_depth = 10)\n",
        "DT.fit(x_train, y_train)\n",
        "y_pred = DT.predict(x_test)\n",
        "#Printing the Report\n",
        "print(classification_report(y_test, y_pred))\n",
        "\n",
        "#Obtaining the ngram\n",
        "import re\n",
        "from nltk.util import ngrams\n",
        "import pandas as pd\n",
        "\n",
        "cosine_similar_ngram = {}\n",
        "\n",
        "for ngram in range(5, 26, 5):\n",
        "\n",
        " intd_intrusion = pd.read_csv(\"https://raw.githubusercontent.com/unt-iialab/info5502-spring2022/main/finalexam/q4/inetd-intrusion.int\", sep = \" \", header = None)\n",
        "intd_normal = pd.read_csv(\"https://raw.githubusercontent.com/unt-iialab/info5502-spring2022/main/finalexam/q4/inetd-normal.int\", sep = \" \", header = None)\n",
        "\n",
        "intd_intrusion.columns = ['PID', 'SystemCalls']\n",
        "intd_normal.columns = ['PID', 'SystemCalls']\n",
        "\n",
        "dict_intd_intrusion = {}\n",
        "dict_intd_normal_ = {}\n",
        "for pid in list(set(intd_intrusion['PID'].values)):\n",
        "        dict_intd_intrusion[pid] = \" \".join(str(value) for value in list(intd_intrusion[intd_intrusion['PID'] == pid]['SystemCalls'].values))\n",
        "for pid in list(set(intd_normal['PID'].values)):\n",
        "        dict_intd_normal[pid] = \" \".join(str(value) for value in list(intd_normal[intd_normal['PID'] == pid]['SystemCalls'].values))\n",
        "list_intrusion = []\n",
        "list_normal = []\n",
        "for key in dict_intd_intrusion.keys():\n",
        " s = dict_intd_intrusion[key]\n",
        "tokens = [token for token in s.split(\" \") if token != \"\"]\n",
        "for ele in list(ngrams(tokens, ngram)):\n",
        "         list_intrusion.append(ele)\n",
        "for key in dict_intd_normal.keys():\n",
        "        s = dict_intd_normal[key]\n",
        "        tokens = [token for token in s.split(\" \") if token != \"\"]\n",
        "for ele in list(ngrams(tokens, ngram)):\n",
        "         list_normal.append(ele)\n",
        "intd_intrusion1 = pd.DataFrame(list_intrusion)\n",
        "intd_normal1 = pd.DataFrame(list_normal)\n",
        "intd_intrusion1['class'] = 1\n",
        "intd_normal1['class'] = 0\n",
        "combined_data = pd.DataFrame()\n",
        "combined_data = combined_data.append(intd_intrusion1)\n",
        "combined_data = combined_data.append(intd_normal1)\n",
        "combined_data.shape\n",
        "print()\n",
        "combined_data = combined_data.drop_duplicates(subset = combined_data.columns[:-1], keep = 'last')\n",
        "combined_data.shape\n",
        "print()\n",
        "from sklearn.metrics.pairwise import cosine_similarity\n",
        "import statistics\n",
        "similarities_list = []\n",
        "for i in range(0, 100):\n",
        "    list1 = list(combined_data[combined_data['class'] == 0].sample(n = 1).iloc[0, :].values)\n",
        "    list2 = list(combined_data[combined_data['class'] == 1].sample(n = 1).iloc[0, :].values)\n",
        "    try:\n",
        "        similarities_list.append(cosine_similarity([list1], [list2]))\n",
        "    except Exception as e:\n",
        "          print(e)\n",
        "    print(list1, list2)\n",
        "    print(statistics.median(similarities_list)[0][0])\n",
        "    print()\n",
        "    cosine_similar_ngram[ngram] = statistics.median(similarities_list)[0][0]\n"
      ],
      "metadata": {
        "colab": {
          "base_uri": "https://localhost:8080/"
        },
        "id": "ifrmSkaV_nh9",
        "outputId": "8d3de3bc-6eb9-47b1-e74b-1fcb80770cde"
      },
      "execution_count": 38,
      "outputs": [
        {
          "output_type": "stream",
          "name": "stdout",
          "text": [
            "              precision    recall  f1-score   support\n",
            "\n",
            "           0       1.00      0.80      0.89         5\n",
            "           1       0.75      1.00      0.86         3\n",
            "\n",
            "    accuracy                           0.88         8\n",
            "   macro avg       0.88      0.90      0.87         8\n",
            "weighted avg       0.91      0.88      0.88         8\n",
            "\n",
            "\n",
            "\n",
            "['90', '6', '5', '3', '90', '90', '90', '90', '6', '125', '91', '125', '125', '125', '136', '49', '24', '47', '50', '45', '45', '5', '106', '106', '106', 0] ['45', '108', '90', '3', '19', '6', '91', '63', '6', '63', '63', '6', '6', '6', '6', '6', '6', '6', '6', '6', '6', '6', '6', '6', '6', 1]\n",
            "0.47805838476181833\n",
            "\n",
            "['5', '3', '90', '90', '90', '90', '6', '125', '91', '125', '125', '125', '136', '49', '24', '47', '50', '45', '45', '5', '106', '106', '106', '106', '106', 0] ['108', '90', '3', '19', '6', '91', '63', '6', '63', '63', '6', '6', '6', '6', '6', '6', '6', '6', '6', '6', '6', '6', '6', '6', '6', 1]\n",
            "0.4282175144344593\n",
            "\n",
            "['5', '90', '6', '5', '3', '90', '90', '90', '90', '6', '125', '91', '125', '125', '125', '136', '49', '24', '47', '50', '45', '45', '5', '106', '106', 0] ['126', '5', '45', '108', '90', '3', '19', '6', '91', '63', '6', '63', '63', '6', '6', '6', '6', '6', '6', '6', '6', '6', '6', '6', '6', 1]\n",
            "0.37837664410710037\n",
            "\n",
            "['3', '90', '90', '90', '90', '6', '125', '91', '125', '125', '125', '136', '49', '24', '47', '50', '45', '45', '5', '106', '106', '106', '106', '106', '2', 0] ['19', '6', '91', '63', '6', '63', '63', '6', '6', '6', '6', '6', '6', '6', '6', '6', '6', '6', '6', '6', '6', '6', '6', '6', '6', 1]\n",
            "0.4282175144344593\n",
            "\n",
            "['90', '90', '90', '90', '6', '125', '91', '125', '125', '125', '136', '49', '24', '47', '50', '45', '45', '5', '106', '106', '106', '106', '106', '2', '1', 0] ['63', '63', '6', '6', '6', '6', '6', '6', '6', '6', '6', '6', '6', '6', '6', '6', '6', '6', '6', '6', '6', '6', '6', '6', '6', 1]\n",
            "0.47805838476181833\n",
            "\n",
            "['90', '90', '90', '90', '6', '125', '91', '125', '125', '125', '136', '49', '24', '47', '50', '45', '45', '5', '106', '106', '106', '106', '106', '2', '1', 0] ['91', '63', '6', '63', '63', '6', '6', '6', '6', '6', '6', '6', '6', '6', '6', '6', '6', '6', '6', '6', '6', '6', '6', '6', '6', 1]\n",
            "0.4738331754031898\n",
            "\n",
            "['5', '3', '90', '90', '90', '90', '6', '125', '91', '125', '125', '125', '136', '49', '24', '47', '50', '45', '45', '5', '106', '106', '106', '106', '106', 0] ['108', '90', '3', '19', '6', '91', '63', '6', '63', '63', '6', '6', '6', '6', '6', '6', '6', '6', '6', '6', '6', '6', '6', '6', '6', 1]\n",
            "0.4696079660445613\n",
            "\n",
            "['125', '106', '5', '90', '6', '5', '3', '90', '90', '90', '90', '6', '125', '91', '125', '125', '125', '136', '49', '24', '47', '50', '45', '45', '5', 0] ['45', '108', '90', '3', '19', '6', '91', '63', '6', '63', '63', '6', '6', '6', '6', '6', '6', '6', '6', '6', '6', '6', '6', '6', '6', 1]\n",
            "0.4738331754031898\n",
            "\n",
            "['106', '5', '90', '6', '5', '3', '90', '90', '90', '90', '6', '125', '91', '125', '125', '125', '136', '49', '24', '47', '50', '45', '45', '5', '106', 0] ['63', '63', '6', '6', '6', '6', '6', '6', '6', '6', '6', '6', '6', '6', '6', '6', '6', '6', '6', '6', '6', '6', '6', '6', '6', 1]\n",
            "0.4696079660445613\n",
            "\n",
            "['3', '90', '90', '90', '90', '6', '125', '91', '125', '125', '125', '136', '49', '24', '47', '50', '45', '45', '5', '106', '106', '106', '106', '106', '2', 0] ['63', '6', '6', '6', '6', '6', '6', '6', '6', '6', '6', '6', '6', '6', '6', '6', '6', '6', '6', '6', '6', '6', '6', '6', '6', 1]\n",
            "0.45097939344860205\n",
            "\n",
            "['90', '125', '125', '106', '5', '90', '6', '5', '3', '90', '90', '90', '90', '6', '125', '91', '125', '125', '125', '136', '49', '24', '47', '50', '45', 0] ['63', '63', '6', '6', '6', '6', '6', '6', '6', '6', '6', '6', '6', '6', '6', '6', '6', '6', '6', '6', '6', '6', '6', '6', '6', 1]\n",
            "0.4696079660445613\n",
            "\n",
            "['106', '5', '90', '6', '5', '3', '90', '90', '90', '90', '6', '125', '91', '125', '125', '125', '136', '49', '24', '47', '50', '45', '45', '5', '106', 0] ['63', '6', '63', '63', '6', '6', '6', '6', '6', '6', '6', '6', '6', '6', '6', '6', '6', '6', '6', '6', '6', '6', '6', '6', '6', 1]\n",
            "0.4712173432249468\n",
            "\n",
            "['125', '106', '5', '90', '6', '5', '3', '90', '90', '90', '90', '6', '125', '91', '125', '125', '125', '136', '49', '24', '47', '50', '45', '45', '5', 0] ['3', '19', '6', '91', '63', '6', '63', '63', '6', '6', '6', '6', '6', '6', '6', '6', '6', '6', '6', '6', '6', '6', '6', '6', '6', 1]\n",
            "0.4696079660445613\n",
            "\n",
            "['125', '106', '5', '90', '6', '5', '3', '90', '90', '90', '90', '6', '125', '91', '125', '125', '125', '136', '49', '24', '47', '50', '45', '45', '5', 0] ['63', '6', '63', '63', '6', '6', '6', '6', '6', '6', '6', '6', '6', '6', '6', '6', '6', '6', '6', '6', '6', '6', '6', '6', '6', 1]\n",
            "0.4712173432249468\n",
            "\n",
            "['90', '125', '125', '106', '5', '90', '6', '5', '3', '90', '90', '90', '90', '6', '125', '91', '125', '125', '125', '136', '49', '24', '47', '50', '45', 0] ['63', '6', '63', '63', '6', '6', '6', '6', '6', '6', '6', '6', '6', '6', '6', '6', '6', '6', '6', '6', '6', '6', '6', '6', '6', 1]\n",
            "0.47282672040533225\n",
            "\n",
            "['3', '90', '90', '90', '90', '6', '125', '91', '125', '125', '125', '136', '49', '24', '47', '50', '45', '45', '5', '106', '106', '106', '106', '106', '2', 0] ['6', '91', '63', '6', '63', '63', '6', '6', '6', '6', '6', '6', '6', '6', '6', '6', '6', '6', '6', '6', '6', '6', '6', '6', '6', 1]\n",
            "0.4713075864805698\n",
            "\n",
            "['6', '5', '3', '90', '90', '90', '90', '6', '125', '91', '125', '125', '125', '136', '49', '24', '47', '50', '45', '45', '5', '106', '106', '106', '106', 0] ['6', '6', '6', '6', '6', '6', '6', '6', '6', '6', '6', '6', '6', '6', '6', '6', '6', '6', '6', '6', '6', '6', '6', '6', '6', 1]\n",
            "0.47282672040533225\n",
            "\n",
            "['106', '5', '90', '6', '5', '3', '90', '90', '90', '90', '6', '125', '91', '125', '125', '125', '136', '49', '24', '47', '50', '45', '45', '5', '106', 0] ['6', '6', '6', '6', '6', '6', '6', '6', '6', '6', '6', '6', '6', '6', '6', '6', '6', '6', '6', '6', '6', '6', '6', '6', '11', 1]\n",
            "0.47544255258357526\n",
            "\n",
            "['5', '3', '90', '90', '90', '90', '6', '125', '91', '125', '125', '125', '136', '49', '24', '47', '50', '45', '45', '5', '106', '106', '106', '106', '106', 0] ['3', '19', '6', '91', '63', '6', '63', '63', '6', '6', '6', '6', '6', '6', '6', '6', '6', '6', '6', '6', '6', '6', '6', '6', '6', 1]\n",
            "0.47805838476181833\n",
            "\n",
            "['90', '125', '125', '106', '5', '90', '6', '5', '3', '90', '90', '90', '90', '6', '125', '91', '125', '125', '125', '136', '49', '24', '47', '50', '45', 0] ['63', '6', '63', '63', '6', '6', '6', '6', '6', '6', '6', '6', '6', '6', '6', '6', '6', '6', '6', '6', '6', '6', '6', '6', '6', 1]\n",
            "0.48445316160421115\n",
            "\n",
            "['106', '5', '90', '6', '5', '3', '90', '90', '90', '90', '6', '125', '91', '125', '125', '125', '136', '49', '24', '47', '50', '45', '45', '5', '106', 0] ['6', '91', '63', '6', '63', '63', '6', '6', '6', '6', '6', '6', '6', '6', '6', '6', '6', '6', '6', '6', '6', '6', '6', '6', '6', 1]\n",
            "0.47805838476181833\n",
            "\n",
            "['125', '106', '5', '90', '6', '5', '3', '90', '90', '90', '90', '6', '125', '91', '125', '125', '125', '136', '49', '24', '47', '50', '45', '45', '5', 0] ['6', '6', '6', '6', '6', '6', '6', '6', '6', '6', '6', '6', '6', '6', '6', '6', '6', '6', '6', '6', '6', '6', '6', '6', '11', 1]\n",
            "0.48445316160421115\n",
            "\n",
            "['90', '6', '5', '3', '90', '90', '90', '90', '6', '125', '91', '125', '125', '125', '136', '49', '24', '47', '50', '45', '45', '5', '106', '106', '106', 0] ['91', '63', '6', '63', '63', '6', '6', '6', '6', '6', '6', '6', '6', '6', '6', '6', '6', '6', '6', '6', '6', '6', '6', '6', '6', 1]\n",
            "0.47805838476181833\n",
            "\n",
            "['125', '106', '5', '90', '6', '5', '3', '90', '90', '90', '90', '6', '125', '91', '125', '125', '125', '136', '49', '24', '47', '50', '45', '45', '5', 0] ['5', '45', '108', '90', '3', '19', '6', '91', '63', '6', '63', '63', '6', '6', '6', '6', '6', '6', '6', '6', '6', '6', '6', '6', '6', 1]\n",
            "0.47753510070014205\n",
            "\n",
            "['5', '3', '90', '90', '90', '90', '6', '125', '91', '125', '125', '125', '136', '49', '24', '47', '50', '45', '45', '5', '106', '106', '106', '106', '106', 0] ['5', '45', '108', '90', '3', '19', '6', '91', '63', '6', '63', '63', '6', '6', '6', '6', '6', '6', '6', '6', '6', '6', '6', '6', '6', 1]\n",
            "0.47805838476181833\n",
            "\n",
            "['6', '5', '3', '90', '90', '90', '90', '6', '125', '91', '125', '125', '125', '136', '49', '24', '47', '50', '45', '45', '5', '106', '106', '106', '106', 0] ['63', '6', '63', '63', '6', '6', '6', '6', '6', '6', '6', '6', '6', '6', '6', '6', '6', '6', '6', '6', '6', '6', '6', '6', '6', 1]\n",
            "0.47753510070014205\n",
            "\n",
            "['125', '106', '5', '90', '6', '5', '3', '90', '90', '90', '90', '6', '125', '91', '125', '125', '125', '136', '49', '24', '47', '50', '45', '45', '5', 0] ['3', '19', '6', '91', '63', '6', '63', '63', '6', '6', '6', '6', '6', '6', '6', '6', '6', '6', '6', '6', '6', '6', '6', '6', '6', 1]\n",
            "0.4770118166384658\n",
            "\n",
            "['125', '106', '5', '90', '6', '5', '3', '90', '90', '90', '90', '6', '125', '91', '125', '125', '125', '136', '49', '24', '47', '50', '45', '45', '5', 0] ['63', '63', '6', '6', '6', '6', '6', '6', '6', '6', '6', '6', '6', '6', '6', '6', '6', '6', '6', '6', '6', '6', '6', '6', '6', 1]\n",
            "0.47753510070014205\n",
            "\n",
            "['90', '90', '90', '90', '6', '125', '91', '125', '125', '125', '136', '49', '24', '47', '50', '45', '45', '5', '106', '106', '106', '106', '106', '2', '1', 0] ['3', '19', '6', '91', '63', '6', '63', '63', '6', '6', '6', '6', '6', '6', '6', '6', '6', '6', '6', '6', '6', '6', '6', '6', '6', 1]\n",
            "0.47805838476181833\n",
            "\n",
            "['3', '90', '90', '90', '90', '6', '125', '91', '125', '125', '125', '136', '49', '24', '47', '50', '45', '45', '5', '106', '106', '106', '106', '106', '2', 0] ['3', '19', '6', '91', '63', '6', '63', '63', '6', '6', '6', '6', '6', '6', '6', '6', '6', '6', '6', '6', '6', '6', '6', '6', '6', 1]\n",
            "0.48445316160421115\n",
            "\n",
            "['3', '90', '90', '90', '90', '6', '125', '91', '125', '125', '125', '136', '49', '24', '47', '50', '45', '45', '5', '106', '106', '106', '106', '106', '2', 0] ['63', '63', '6', '6', '6', '6', '6', '6', '6', '6', '6', '6', '6', '6', '6', '6', '6', '6', '6', '6', '6', '6', '6', '6', '6', 1]\n",
            "0.47805838476181833\n",
            "\n",
            "['90', '125', '125', '106', '5', '90', '6', '5', '3', '90', '90', '90', '90', '6', '125', '91', '125', '125', '125', '136', '49', '24', '47', '50', '45', 0] ['5', '45', '108', '90', '3', '19', '6', '91', '63', '6', '63', '63', '6', '6', '6', '6', '6', '6', '6', '6', '6', '6', '6', '6', '6', 1]\n",
            "0.48445316160421115\n",
            "\n",
            "['125', '106', '5', '90', '6', '5', '3', '90', '90', '90', '90', '6', '125', '91', '125', '125', '125', '136', '49', '24', '47', '50', '45', '45', '5', 0] ['5', '45', '108', '90', '3', '19', '6', '91', '63', '6', '63', '63', '6', '6', '6', '6', '6', '6', '6', '6', '6', '6', '6', '6', '6', 1]\n",
            "0.47805838476181833\n",
            "\n",
            "['125', '125', '106', '5', '90', '6', '5', '3', '90', '90', '90', '90', '6', '125', '91', '125', '125', '125', '136', '49', '24', '47', '50', '45', '45', 0] ['90', '3', '19', '6', '91', '63', '6', '63', '63', '6', '6', '6', '6', '6', '6', '6', '6', '6', '6', '6', '6', '6', '6', '6', '6', 1]\n",
            "0.48204745932876236\n",
            "\n",
            "['6', '5', '3', '90', '90', '90', '90', '6', '125', '91', '125', '125', '125', '136', '49', '24', '47', '50', '45', '45', '5', '106', '106', '106', '106', 0] ['63', '6', '6', '6', '6', '6', '6', '6', '6', '6', '6', '6', '6', '6', '6', '6', '6', '6', '6', '6', '6', '6', '6', '6', '6', 1]\n",
            "0.47805838476181833\n",
            "\n",
            "['5', '3', '90', '90', '90', '90', '6', '125', '91', '125', '125', '125', '136', '49', '24', '47', '50', '45', '45', '5', '106', '106', '106', '106', '106', 0] ['63', '63', '6', '6', '6', '6', '6', '6', '6', '6', '6', '6', '6', '6', '6', '6', '6', '6', '6', '6', '6', '6', '6', '6', '6', 1]\n",
            "0.47753510070014205\n",
            "\n",
            "['125', '106', '5', '90', '6', '5', '3', '90', '90', '90', '90', '6', '125', '91', '125', '125', '125', '136', '49', '24', '47', '50', '45', '45', '5', 0] ['6', '63', '63', '6', '6', '6', '6', '6', '6', '6', '6', '6', '6', '6', '6', '6', '6', '6', '6', '6', '6', '6', '6', '6', '6', 1]\n",
            "0.4770118166384658\n",
            "\n",
            "['90', '125', '125', '106', '5', '90', '6', '5', '3', '90', '90', '90', '90', '6', '125', '91', '125', '125', '125', '136', '49', '24', '47', '50', '45', 0] ['63', '63', '6', '6', '6', '6', '6', '6', '6', '6', '6', '6', '6', '6', '6', '6', '6', '6', '6', '6', '6', '6', '6', '6', '6', 1]\n",
            "0.47753510070014205\n",
            "\n",
            "['5', '3', '90', '90', '90', '90', '6', '125', '91', '125', '125', '125', '136', '49', '24', '47', '50', '45', '45', '5', '106', '106', '106', '106', '106', 0] ['126', '5', '45', '108', '90', '3', '19', '6', '91', '63', '6', '63', '63', '6', '6', '6', '6', '6', '6', '6', '6', '6', '6', '6', '6', 1]\n",
            "0.47805838476181833\n",
            "\n",
            "['3', '90', '90', '90', '90', '6', '125', '91', '125', '125', '125', '136', '49', '24', '47', '50', '45', '45', '5', '106', '106', '106', '106', '106', '2', 0] ['6', '6', '6', '6', '6', '6', '6', '6', '6', '6', '6', '6', '6', '6', '6', '6', '6', '6', '6', '6', '6', '6', '6', '6', '11', 1]\n",
            "0.48204745932876236\n",
            "\n",
            "['5', '3', '90', '90', '90', '90', '6', '125', '91', '125', '125', '125', '136', '49', '24', '47', '50', '45', '45', '5', '106', '106', '106', '106', '106', 0] ['108', '90', '3', '19', '6', '91', '63', '6', '63', '63', '6', '6', '6', '6', '6', '6', '6', '6', '6', '6', '6', '6', '6', '6', '6', 1]\n",
            "0.47805838476181833\n",
            "\n",
            "['90', '125', '125', '106', '5', '90', '6', '5', '3', '90', '90', '90', '90', '6', '125', '91', '125', '125', '125', '136', '49', '24', '47', '50', '45', 0] ['126', '5', '45', '108', '90', '3', '19', '6', '91', '63', '6', '63', '63', '6', '6', '6', '6', '6', '6', '6', '6', '6', '6', '6', '6', 1]\n",
            "0.48204745932876236\n",
            "\n",
            "['90', '6', '5', '3', '90', '90', '90', '90', '6', '125', '91', '125', '125', '125', '136', '49', '24', '47', '50', '45', '45', '5', '106', '106', '106', 0] ['126', '5', '45', '108', '90', '3', '19', '6', '91', '63', '6', '63', '63', '6', '6', '6', '6', '6', '6', '6', '6', '6', '6', '6', '6', 1]\n",
            "0.48603653389570645\n",
            "\n",
            "['125', '125', '106', '5', '90', '6', '5', '3', '90', '90', '90', '90', '6', '125', '91', '125', '125', '125', '136', '49', '24', '47', '50', '45', '45', 0] ['5', '45', '108', '90', '3', '19', '6', '91', '63', '6', '63', '63', '6', '6', '6', '6', '6', '6', '6', '6', '6', '6', '6', '6', '6', 1]\n",
            "0.48204745932876236\n",
            "\n",
            "['5', '3', '90', '90', '90', '90', '6', '125', '91', '125', '125', '125', '136', '49', '24', '47', '50', '45', '45', '5', '106', '106', '106', '106', '106', 0] ['45', '108', '90', '3', '19', '6', '91', '63', '6', '63', '63', '6', '6', '6', '6', '6', '6', '6', '6', '6', '6', '6', '6', '6', '6', 1]\n",
            "0.47805838476181833\n",
            "\n",
            "['5', '90', '6', '5', '3', '90', '90', '90', '90', '6', '125', '91', '125', '125', '125', '136', '49', '24', '47', '50', '45', '45', '5', '106', '106', 0] ['63', '6', '6', '6', '6', '6', '6', '6', '6', '6', '6', '6', '6', '6', '6', '6', '6', '6', '6', '6', '6', '6', '6', '6', '6', 1]\n",
            "0.47753510070014205\n",
            "\n",
            "['5', '90', '6', '5', '3', '90', '90', '90', '90', '6', '125', '91', '125', '125', '125', '136', '49', '24', '47', '50', '45', '45', '5', '106', '106', 0] ['5', '45', '108', '90', '3', '19', '6', '91', '63', '6', '63', '63', '6', '6', '6', '6', '6', '6', '6', '6', '6', '6', '6', '6', '6', 1]\n",
            "0.47805838476181833\n",
            "\n",
            "['90', '125', '125', '106', '5', '90', '6', '5', '3', '90', '90', '90', '90', '6', '125', '91', '125', '125', '125', '136', '49', '24', '47', '50', '45', 0] ['5', '45', '108', '90', '3', '19', '6', '91', '63', '6', '63', '63', '6', '6', '6', '6', '6', '6', '6', '6', '6', '6', '6', '6', '6', 1]\n",
            "0.48204745932876236\n",
            "\n",
            "['90', '125', '125', '106', '5', '90', '6', '5', '3', '90', '90', '90', '90', '6', '125', '91', '125', '125', '125', '136', '49', '24', '47', '50', '45', 0] ['90', '3', '19', '6', '91', '63', '6', '63', '63', '6', '6', '6', '6', '6', '6', '6', '6', '6', '6', '6', '6', '6', '6', '6', '6', 1]\n",
            "0.47805838476181833\n",
            "\n",
            "['90', '90', '90', '90', '6', '125', '91', '125', '125', '125', '136', '49', '24', '47', '50', '45', '45', '5', '106', '106', '106', '106', '106', '2', '1', 0] ['6', '6', '6', '6', '6', '6', '6', '6', '6', '6', '6', '6', '6', '6', '6', '6', '6', '6', '6', '6', '6', '6', '6', '6', '11', 1]\n",
            "0.48204745932876236\n",
            "\n",
            "['6', '5', '3', '90', '90', '90', '90', '6', '125', '91', '125', '125', '125', '136', '49', '24', '47', '50', '45', '45', '5', '106', '106', '106', '106', 0] ['126', '5', '45', '108', '90', '3', '19', '6', '91', '63', '6', '63', '63', '6', '6', '6', '6', '6', '6', '6', '6', '6', '6', '6', '6', 1]\n",
            "0.48603653389570645\n",
            "\n",
            "['3', '90', '90', '90', '90', '6', '125', '91', '125', '125', '125', '136', '49', '24', '47', '50', '45', '45', '5', '106', '106', '106', '106', '106', '2', 0] ['6', '91', '63', '6', '63', '63', '6', '6', '6', '6', '6', '6', '6', '6', '6', '6', '6', '6', '6', '6', '6', '6', '6', '6', '6', 1]\n",
            "0.48204745932876236\n",
            "\n",
            "['106', '5', '90', '6', '5', '3', '90', '90', '90', '90', '6', '125', '91', '125', '125', '125', '136', '49', '24', '47', '50', '45', '45', '5', '106', 0] ['63', '63', '6', '6', '6', '6', '6', '6', '6', '6', '6', '6', '6', '6', '6', '6', '6', '6', '6', '6', '6', '6', '6', '6', '6', 1]\n",
            "0.47805838476181833\n",
            "\n",
            "['125', '125', '106', '5', '90', '6', '5', '3', '90', '90', '90', '90', '6', '125', '91', '125', '125', '125', '136', '49', '24', '47', '50', '45', '45', 0] ['91', '63', '6', '63', '63', '6', '6', '6', '6', '6', '6', '6', '6', '6', '6', '6', '6', '6', '6', '6', '6', '6', '6', '6', '6', 1]\n",
            "0.48204745932876236\n",
            "\n",
            "['90', '90', '90', '90', '6', '125', '91', '125', '125', '125', '136', '49', '24', '47', '50', '45', '45', '5', '106', '106', '106', '106', '106', '2', '1', 0] ['126', '5', '45', '108', '90', '3', '19', '6', '91', '63', '6', '63', '63', '6', '6', '6', '6', '6', '6', '6', '6', '6', '6', '6', '6', 1]\n",
            "0.48603653389570645\n",
            "\n",
            "['90', '125', '125', '106', '5', '90', '6', '5', '3', '90', '90', '90', '90', '6', '125', '91', '125', '125', '125', '136', '49', '24', '47', '50', '45', 0] ['6', '63', '63', '6', '6', '6', '6', '6', '6', '6', '6', '6', '6', '6', '6', '6', '6', '6', '6', '6', '6', '6', '6', '6', '6', 1]\n",
            "0.4864672160265542\n",
            "\n",
            "['106', '5', '90', '6', '5', '3', '90', '90', '90', '90', '6', '125', '91', '125', '125', '125', '136', '49', '24', '47', '50', '45', '45', '5', '106', 0] ['126', '5', '45', '108', '90', '3', '19', '6', '91', '63', '6', '63', '63', '6', '6', '6', '6', '6', '6', '6', '6', '6', '6', '6', '6', 1]\n",
            "0.4868978981574019\n",
            "\n",
            "['5', '3', '90', '90', '90', '90', '6', '125', '91', '125', '125', '125', '136', '49', '24', '47', '50', '45', '45', '5', '106', '106', '106', '106', '106', 0] ['108', '90', '3', '19', '6', '91', '63', '6', '63', '63', '6', '6', '6', '6', '6', '6', '6', '6', '6', '6', '6', '6', '6', '6', '6', 1]\n",
            "0.4864672160265542\n",
            "\n",
            "['6', '5', '3', '90', '90', '90', '90', '6', '125', '91', '125', '125', '125', '136', '49', '24', '47', '50', '45', '45', '5', '106', '106', '106', '106', 0] ['63', '6', '6', '6', '6', '6', '6', '6', '6', '6', '6', '6', '6', '6', '6', '6', '6', '6', '6', '6', '6', '6', '6', '6', '6', 1]\n",
            "0.48603653389570645\n",
            "\n",
            "['6', '5', '3', '90', '90', '90', '90', '6', '125', '91', '125', '125', '125', '136', '49', '24', '47', '50', '45', '45', '5', '106', '106', '106', '106', 0] ['90', '3', '19', '6', '91', '63', '6', '63', '63', '6', '6', '6', '6', '6', '6', '6', '6', '6', '6', '6', '6', '6', '6', '6', '6', 1]\n",
            "0.48204745932876236\n",
            "\n",
            "['125', '106', '5', '90', '6', '5', '3', '90', '90', '90', '90', '6', '125', '91', '125', '125', '125', '136', '49', '24', '47', '50', '45', '45', '5', 0] ['63', '63', '6', '6', '6', '6', '6', '6', '6', '6', '6', '6', '6', '6', '6', '6', '6', '6', '6', '6', '6', '6', '6', '6', '6', 1]\n",
            "0.48603653389570645\n",
            "\n",
            "['90', '90', '90', '90', '6', '125', '91', '125', '125', '125', '136', '49', '24', '47', '50', '45', '45', '5', '106', '106', '106', '106', '106', '2', '1', 0] ['63', '6', '63', '63', '6', '6', '6', '6', '6', '6', '6', '6', '6', '6', '6', '6', '6', '6', '6', '6', '6', '6', '6', '6', '6', 1]\n",
            "0.4864672160265542\n",
            "\n",
            "['90', '6', '5', '3', '90', '90', '90', '90', '6', '125', '91', '125', '125', '125', '136', '49', '24', '47', '50', '45', '45', '5', '106', '106', '106', 0] ['108', '90', '3', '19', '6', '91', '63', '6', '63', '63', '6', '6', '6', '6', '6', '6', '6', '6', '6', '6', '6', '6', '6', '6', '6', 1]\n",
            "0.48603653389570645\n",
            "\n",
            "['5', '3', '90', '90', '90', '90', '6', '125', '91', '125', '125', '125', '136', '49', '24', '47', '50', '45', '45', '5', '106', '106', '106', '106', '106', 0] ['19', '6', '91', '63', '6', '63', '63', '6', '6', '6', '6', '6', '6', '6', '6', '6', '6', '6', '6', '6', '6', '6', '6', '6', '6', 1]\n",
            "0.4828283885149704\n",
            "\n",
            "['125', '106', '5', '90', '6', '5', '3', '90', '90', '90', '90', '6', '125', '91', '125', '125', '125', '136', '49', '24', '47', '50', '45', '45', '5', 0] ['6', '6', '6', '6', '6', '6', '6', '6', '6', '6', '6', '6', '6', '6', '6', '6', '6', '6', '6', '6', '6', '6', '6', '6', '11', 1]\n",
            "0.48603653389570645\n",
            "\n",
            "['5', '90', '6', '5', '3', '90', '90', '90', '90', '6', '125', '91', '125', '125', '125', '136', '49', '24', '47', '50', '45', '45', '5', '106', '106', 0] ['6', '6', '6', '6', '6', '6', '6', '6', '6', '6', '6', '6', '6', '6', '6', '6', '6', '6', '6', '6', '6', '6', '6', '6', '6', 1]\n",
            "0.4864672160265542\n",
            "\n",
            "['3', '90', '90', '90', '90', '6', '125', '91', '125', '125', '125', '136', '49', '24', '47', '50', '45', '45', '5', '106', '106', '106', '106', '106', '2', 0] ['63', '6', '6', '6', '6', '6', '6', '6', '6', '6', '6', '6', '6', '6', '6', '6', '6', '6', '6', '6', '6', '6', '6', '6', '6', 1]\n",
            "0.48603653389570645\n",
            "\n",
            "['125', '106', '5', '90', '6', '5', '3', '90', '90', '90', '90', '6', '125', '91', '125', '125', '125', '136', '49', '24', '47', '50', '45', '45', '5', 0] ['6', '63', '63', '6', '6', '6', '6', '6', '6', '6', '6', '6', '6', '6', '6', '6', '6', '6', '6', '6', '6', '6', '6', '6', '6', 1]\n",
            "0.4828283885149704\n",
            "\n",
            "['90', '90', '90', '90', '6', '125', '91', '125', '125', '125', '136', '49', '24', '47', '50', '45', '45', '5', '106', '106', '106', '106', '106', '2', '1', 0] ['108', '90', '3', '19', '6', '91', '63', '6', '63', '63', '6', '6', '6', '6', '6', '6', '6', '6', '6', '6', '6', '6', '6', '6', '6', 1]\n",
            "0.48603653389570645\n",
            "\n",
            "['125', '106', '5', '90', '6', '5', '3', '90', '90', '90', '90', '6', '125', '91', '125', '125', '125', '136', '49', '24', '47', '50', '45', '45', '5', 0] ['45', '108', '90', '3', '19', '6', '91', '63', '6', '63', '63', '6', '6', '6', '6', '6', '6', '6', '6', '6', '6', '6', '6', '6', '6', 1]\n",
            "0.4864672160265542\n",
            "\n",
            "['5', '90', '6', '5', '3', '90', '90', '90', '90', '6', '125', '91', '125', '125', '125', '136', '49', '24', '47', '50', '45', '45', '5', '106', '106', 0] ['5', '45', '108', '90', '3', '19', '6', '91', '63', '6', '63', '63', '6', '6', '6', '6', '6', '6', '6', '6', '6', '6', '6', '6', '6', 1]\n",
            "0.4868978981574019\n",
            "\n",
            "['106', '5', '90', '6', '5', '3', '90', '90', '90', '90', '6', '125', '91', '125', '125', '125', '136', '49', '24', '47', '50', '45', '45', '5', '106', 0] ['63', '6', '6', '6', '6', '6', '6', '6', '6', '6', '6', '6', '6', '6', '6', '6', '6', '6', '6', '6', '6', '6', '6', '6', '6', 1]\n",
            "0.4868978981574019\n",
            "\n",
            "['5', '3', '90', '90', '90', '90', '6', '125', '91', '125', '125', '125', '136', '49', '24', '47', '50', '45', '45', '5', '106', '106', '106', '106', '106', 0] ['126', '5', '45', '108', '90', '3', '19', '6', '91', '63', '6', '63', '63', '6', '6', '6', '6', '6', '6', '6', '6', '6', '6', '6', '6', 1]\n",
            "0.4868978981574019\n",
            "\n",
            "['5', '3', '90', '90', '90', '90', '6', '125', '91', '125', '125', '125', '136', '49', '24', '47', '50', '45', '45', '5', '106', '106', '106', '106', '106', 0] ['90', '3', '19', '6', '91', '63', '6', '63', '63', '6', '6', '6', '6', '6', '6', '6', '6', '6', '6', '6', '6', '6', '6', '6', '6', 1]\n",
            "0.48887291830200297\n",
            "\n",
            "['5', '3', '90', '90', '90', '90', '6', '125', '91', '125', '125', '125', '136', '49', '24', '47', '50', '45', '45', '5', '106', '106', '106', '106', '106', 0] ['63', '6', '6', '6', '6', '6', '6', '6', '6', '6', '6', '6', '6', '6', '6', '6', '6', '6', '6', '6', '6', '6', '6', '6', '6', 1]\n",
            "0.4868978981574019\n",
            "\n",
            "['90', '90', '90', '90', '6', '125', '91', '125', '125', '125', '136', '49', '24', '47', '50', '45', '45', '5', '106', '106', '106', '106', '106', '2', '1', 0] ['6', '91', '63', '6', '63', '63', '6', '6', '6', '6', '6', '6', '6', '6', '6', '6', '6', '6', '6', '6', '6', '6', '6', '6', '6', 1]\n",
            "0.48887291830200297\n",
            "\n",
            "['90', '6', '5', '3', '90', '90', '90', '90', '6', '125', '91', '125', '125', '125', '136', '49', '24', '47', '50', '45', '45', '5', '106', '106', '106', 0] ['3', '19', '6', '91', '63', '6', '63', '63', '6', '6', '6', '6', '6', '6', '6', '6', '6', '6', '6', '6', '6', '6', '6', '6', '6', 1]\n",
            "0.4868978981574019\n",
            "\n",
            "['125', '125', '106', '5', '90', '6', '5', '3', '90', '90', '90', '90', '6', '125', '91', '125', '125', '125', '136', '49', '24', '47', '50', '45', '45', 0] ['6', '91', '63', '6', '63', '63', '6', '6', '6', '6', '6', '6', '6', '6', '6', '6', '6', '6', '6', '6', '6', '6', '6', '6', '6', 1]\n",
            "0.48887291830200297\n",
            "\n",
            "['6', '5', '3', '90', '90', '90', '90', '6', '125', '91', '125', '125', '125', '136', '49', '24', '47', '50', '45', '45', '5', '106', '106', '106', '106', 0] ['19', '6', '91', '63', '6', '63', '63', '6', '6', '6', '6', '6', '6', '6', '6', '6', '6', '6', '6', '6', '6', '6', '6', '6', '6', 1]\n",
            "0.4868978981574019\n",
            "\n",
            "['90', '90', '90', '90', '6', '125', '91', '125', '125', '125', '136', '49', '24', '47', '50', '45', '45', '5', '106', '106', '106', '106', '106', '2', '1', 0] ['63', '6', '6', '6', '6', '6', '6', '6', '6', '6', '6', '6', '6', '6', '6', '6', '6', '6', '6', '6', '6', '6', '6', '6', '6', 1]\n",
            "0.48887291830200297\n",
            "\n",
            "['90', '125', '125', '106', '5', '90', '6', '5', '3', '90', '90', '90', '90', '6', '125', '91', '125', '125', '125', '136', '49', '24', '47', '50', '45', 0] ['19', '6', '91', '63', '6', '63', '63', '6', '6', '6', '6', '6', '6', '6', '6', '6', '6', '6', '6', '6', '6', '6', '6', '6', '6', 1]\n",
            "0.49084793844660396\n",
            "\n",
            "['5', '90', '6', '5', '3', '90', '90', '90', '90', '6', '125', '91', '125', '125', '125', '136', '49', '24', '47', '50', '45', '45', '5', '106', '106', 0] ['6', '6', '6', '6', '6', '6', '6', '6', '6', '6', '6', '6', '6', '6', '6', '6', '6', '6', '6', '6', '6', '6', '6', '6', '6', 1]\n",
            "0.49084793844660396\n",
            "\n",
            "['3', '90', '90', '90', '90', '6', '125', '91', '125', '125', '125', '136', '49', '24', '47', '50', '45', '45', '5', '106', '106', '106', '106', '106', '2', 0] ['91', '63', '6', '63', '63', '6', '6', '6', '6', '6', '6', '6', '6', '6', '6', '6', '6', '6', '6', '6', '6', '6', '6', '6', '6', 1]\n",
            "0.49084793844660396\n",
            "\n",
            "['5', '3', '90', '90', '90', '90', '6', '125', '91', '125', '125', '125', '136', '49', '24', '47', '50', '45', '45', '5', '106', '106', '106', '106', '106', 0] ['19', '6', '91', '63', '6', '63', '63', '6', '6', '6', '6', '6', '6', '6', '6', '6', '6', '6', '6', '6', '6', '6', '6', '6', '6', 1]\n",
            "0.48887291830200297\n",
            "\n",
            "['125', '106', '5', '90', '6', '5', '3', '90', '90', '90', '90', '6', '125', '91', '125', '125', '125', '136', '49', '24', '47', '50', '45', '45', '5', 0] ['3', '19', '6', '91', '63', '6', '63', '63', '6', '6', '6', '6', '6', '6', '6', '6', '6', '6', '6', '6', '6', '6', '6', '6', '6', 1]\n",
            "0.4868978981574019\n",
            "\n",
            "['90', '125', '125', '106', '5', '90', '6', '5', '3', '90', '90', '90', '90', '6', '125', '91', '125', '125', '125', '136', '49', '24', '47', '50', '45', 0] ['6', '63', '63', '6', '6', '6', '6', '6', '6', '6', '6', '6', '6', '6', '6', '6', '6', '6', '6', '6', '6', '6', '6', '6', '6', 1]\n",
            "0.48887291830200297\n",
            "\n",
            "['125', '125', '106', '5', '90', '6', '5', '3', '90', '90', '90', '90', '6', '125', '91', '125', '125', '125', '136', '49', '24', '47', '50', '45', '45', 0] ['6', '6', '6', '6', '6', '6', '6', '6', '6', '6', '6', '6', '6', '6', '6', '6', '6', '6', '6', '6', '6', '6', '6', '6', '11', 1]\n",
            "0.49084793844660396\n",
            "\n",
            "['90', '90', '90', '90', '6', '125', '91', '125', '125', '125', '136', '49', '24', '47', '50', '45', '45', '5', '106', '106', '106', '106', '106', '2', '1', 0] ['63', '6', '6', '6', '6', '6', '6', '6', '6', '6', '6', '6', '6', '6', '6', '6', '6', '6', '6', '6', '6', '6', '6', '6', '6', 1]\n",
            "0.49084793844660396\n",
            "\n",
            "['90', '6', '5', '3', '90', '90', '90', '90', '6', '125', '91', '125', '125', '125', '136', '49', '24', '47', '50', '45', '45', '5', '106', '106', '106', 0] ['90', '3', '19', '6', '91', '63', '6', '63', '63', '6', '6', '6', '6', '6', '6', '6', '6', '6', '6', '6', '6', '6', '6', '6', '6', 1]\n",
            "0.49084793844660396\n",
            "\n",
            "['90', '6', '5', '3', '90', '90', '90', '90', '6', '125', '91', '125', '125', '125', '136', '49', '24', '47', '50', '45', '45', '5', '106', '106', '106', 0] ['90', '3', '19', '6', '91', '63', '6', '63', '63', '6', '6', '6', '6', '6', '6', '6', '6', '6', '6', '6', '6', '6', '6', '6', '6', 1]\n",
            "0.49105925520029636\n",
            "\n",
            "['125', '106', '5', '90', '6', '5', '3', '90', '90', '90', '90', '6', '125', '91', '125', '125', '125', '136', '49', '24', '47', '50', '45', '45', '5', 0] ['126', '5', '45', '108', '90', '3', '19', '6', '91', '63', '6', '63', '63', '6', '6', '6', '6', '6', '6', '6', '6', '6', '6', '6', '6', 1]\n",
            "0.4912705719539888\n",
            "\n",
            "['5', '3', '90', '90', '90', '90', '6', '125', '91', '125', '125', '125', '136', '49', '24', '47', '50', '45', '45', '5', '106', '106', '106', '106', '106', 0] ['6', '63', '63', '6', '6', '6', '6', '6', '6', '6', '6', '6', '6', '6', '6', '6', '6', '6', '6', '6', '6', '6', '6', '6', '6', 1]\n",
            "0.49105925520029636\n",
            "\n",
            "['5', '3', '90', '90', '90', '90', '6', '125', '91', '125', '125', '125', '136', '49', '24', '47', '50', '45', '45', '5', '106', '106', '106', '106', '106', 0] ['6', '63', '63', '6', '6', '6', '6', '6', '6', '6', '6', '6', '6', '6', '6', '6', '6', '6', '6', '6', '6', '6', '6', '6', '6', 1]\n",
            "0.49084793844660396\n",
            "\n",
            "['3', '90', '90', '90', '90', '6', '125', '91', '125', '125', '125', '136', '49', '24', '47', '50', '45', '45', '5', '106', '106', '106', '106', '106', '2', 0] ['63', '63', '6', '6', '6', '6', '6', '6', '6', '6', '6', '6', '6', '6', '6', '6', '6', '6', '6', '6', '6', '6', '6', '6', '6', 1]\n",
            "0.49084793844660396\n",
            "\n",
            "['125', '125', '106', '5', '90', '6', '5', '3', '90', '90', '90', '90', '6', '125', '91', '125', '125', '125', '136', '49', '24', '47', '50', '45', '45', 0] ['126', '5', '45', '108', '90', '3', '19', '6', '91', '63', '6', '63', '63', '6', '6', '6', '6', '6', '6', '6', '6', '6', '6', '6', '6', 1]\n",
            "0.49084793844660396\n",
            "\n",
            "['90', '6', '5', '3', '90', '90', '90', '90', '6', '125', '91', '125', '125', '125', '136', '49', '24', '47', '50', '45', '45', '5', '106', '106', '106', 0] ['6', '63', '63', '6', '6', '6', '6', '6', '6', '6', '6', '6', '6', '6', '6', '6', '6', '6', '6', '6', '6', '6', '6', '6', '6', 1]\n",
            "0.49084793844660396\n",
            "\n",
            "['125', '125', '106', '5', '90', '6', '5', '3', '90', '90', '90', '90', '6', '125', '91', '125', '125', '125', '136', '49', '24', '47', '50', '45', '45', 0] ['126', '5', '45', '108', '90', '3', '19', '6', '91', '63', '6', '63', '63', '6', '6', '6', '6', '6', '6', '6', '6', '6', '6', '6', '6', 1]\n",
            "0.49084793844660396\n",
            "\n",
            "['5', '3', '90', '90', '90', '90', '6', '125', '91', '125', '125', '125', '136', '49', '24', '47', '50', '45', '45', '5', '106', '106', '106', '106', '106', 0] ['63', '6', '63', '63', '6', '6', '6', '6', '6', '6', '6', '6', '6', '6', '6', '6', '6', '6', '6', '6', '6', '6', '6', '6', '6', 1]\n",
            "0.49084793844660396\n",
            "\n",
            "['6', '5', '3', '90', '90', '90', '90', '6', '125', '91', '125', '125', '125', '136', '49', '24', '47', '50', '45', '45', '5', '106', '106', '106', '106', 0] ['126', '5', '45', '108', '90', '3', '19', '6', '91', '63', '6', '63', '63', '6', '6', '6', '6', '6', '6', '6', '6', '6', '6', '6', '6', 1]\n",
            "0.49084793844660396\n",
            "\n",
            "['5', '90', '6', '5', '3', '90', '90', '90', '90', '6', '125', '91', '125', '125', '125', '136', '49', '24', '47', '50', '45', '45', '5', '106', '106', 0] ['63', '63', '6', '6', '6', '6', '6', '6', '6', '6', '6', '6', '6', '6', '6', '6', '6', '6', '6', '6', '6', '6', '6', '6', '6', 1]\n",
            "0.49084793844660396\n",
            "\n"
          ]
        }
      ]
    },
    {
      "cell_type": "code",
      "source": [
        "import matplotlib.pyplot as plt\n",
        "import seaborn as sns\n",
        "\n",
        "cosine_similar_ngram_df = pd.DataFrame({\"Ngram\":list(cosine_similar_ngram.keys()), \"Similarity_scores\": list(cosine_similar_ngram.values())})\n",
        "\n",
        "\n",
        "plt.rcParams['figure.figsize'] = [15, 7]\n",
        "\n",
        "sns.lineplot(x = \"Ngram\", y = \"Similarity_scores\", data = cosine_similar_ngram_df)\n",
        "    \n",
        "plt.title(\"Cosine similarity scores using Line Chart\")\n",
        "plt.xlabel(\"Ngram\")\n",
        "plt.ylabel(\"Cosine similarity scores\")\n",
        "plt.xticks(rotation = 90)\n",
        "plt.show()"
      ],
      "metadata": {
        "colab": {
          "base_uri": "https://localhost:8080/",
          "height": 471
        },
        "id": "-zDN1AwHI6bQ",
        "outputId": "f69291cd-6302-4969-8526-d2458ba38162"
      },
      "execution_count": 39,
      "outputs": [
        {
          "output_type": "display_data",
          "data": {
            "text/plain": [
              "<Figure size 1080x504 with 1 Axes>"
            ],
            "image/png": "[encoded data removed]"
          },
          "metadata": {
            "needs_background": "light"
          }
        }
      ]
    },
    {
      "cell_type": "code",
      "source": [
        "from sklearn import tree\n",
        "plt.figure(figsize=(20,25))\n",
        "tree.plot_tree(DT,filled=True)"
      ],
      "metadata": {
        "colab": {
          "base_uri": "https://localhost:8080/",
          "height": 1000
        },
        "id": "xIiGmGtlJaHB",
        "outputId": "bf5401e9-bad2-486a-fea7-e0587bce940f"
      },
      "execution_count": 40,
      "outputs": [
        {
          "output_type": "execute_result",
          "data": {
            "text/plain": [
              "[Text(0.5, 0.75, 'X[9] <= 76.5\\ngini = 0.415\\nsamples = 17\\nvalue = [5, 12]'),\n",
              " Text(0.25, 0.25, 'gini = 0.0\\nsamples = 12\\nvalue = [0, 12]'),\n",
              " Text(0.75, 0.25, 'gini = 0.0\\nsamples = 5\\nvalue = [5, 0]')]"
            ]
          },
          "metadata": {},
          "execution_count": 40
        },
        {
          "output_type": "display_data",
          "data": {
            "text/plain": [
              "<Figure size 1440x1800 with 1 Axes>"
            ],
            "image/png": "[encoded data removed]"
          },
          "metadata": {
            "needs_background": "light"
          }
        }
      ]
    }
  ],
  "metadata": {
    "kernelspec": {
      "display_name": "Python 3",
      "language": "python",
      "name": "python3"
    },
    "language_info": {
      "codemirror_mode": {
        "name": "ipython",
        "version": 3
      },
      "file_extension": ".py",
      "mimetype": "text/x-python",
      "name": "python",
      "nbconvert_exporter": "python",
      "pygments_lexer": "ipython3",
      "version": "3.8.5"
    },
    "colab": {
      "name": "INFO 5502-Final Exam-Spring2022.ipynb",
      "provenance": [],
      "include_colab_link": true
    }
  },
  "nbformat": 4,
  "nbformat_minor": 0
}