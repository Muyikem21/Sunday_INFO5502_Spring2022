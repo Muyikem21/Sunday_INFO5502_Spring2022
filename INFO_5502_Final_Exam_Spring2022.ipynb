{
  "cells": [
    {
      "cell_type": "markdown",
      "metadata": {
        "id": "view-in-github",
        "colab_type": "text"
      },
      "source": [
        "<a href=\"https://colab.research.google.com/github/Muyikem21/Sunday_INFO5502_Spring2022/blob/main/INFO_5502_Final_Exam_Spring2022.ipynb\" target=\"_parent\"><img src=\"https://colab.research.google.com/assets/colab-badge.svg\" alt=\"Open In Colab\"/></a>"
      ]
    },
    {
      "cell_type": "markdown",
      "metadata": {
        "id": "1llmDcMbzqNN"
      },
      "source": [
        "### INFO 5502 Final Exam (05/12/2022, 240 points in total)"
      ]
    },
    {
      "cell_type": "code",
      "source": [
        ""
      ],
      "metadata": {
        "id": "7Krwbds7zy4d"
      },
      "execution_count": null,
      "outputs": []
    },
    {
      "cell_type": "markdown",
      "metadata": {
        "id": "84ChVE3UzqNa"
      },
      "source": [
        "<span style='background:yellow'>**Question 1 (40 pt).**</span> We want to create a birthday frequency graph using the data on births in the United States, provided by the Centers for Disease Control (CDC). You can download the data from my GitHub link:https://github.com/unt-iialab/info5502-spring2022/blob/main/datasets/births.csv \n",
        "\n",
        "Please visualize the data as the following figure using python (you can use any data visualization packages):\n",
        "\n",
        "![final-exam.png](attachment:final-exam.png)"
      ]
    },
    {
      "cell_type": "code",
      "execution_count": 7,
      "metadata": {
        "colab": {
          "base_uri": "https://localhost:8080/",
          "height": 206
        },
        "id": "IB5OefIWzqNd",
        "outputId": "db114cff-b949-43f3-9279-b0abfbe68b59"
      },
      "outputs": [
        {
          "output_type": "execute_result",
          "data": {
            "text/plain": [
              "   year  month  day gender  births\n",
              "0  1969      1  1.0      F    4046\n",
              "1  1969      1  1.0      M    4440\n",
              "2  1969      1  2.0      F    4454\n",
              "3  1969      1  2.0      M    4548\n",
              "4  1969      1  3.0      F    4548"
            ],
            "text/html": [
              "\n",
              "  <div id=\"df-dbdcfafb-25a2-462e-bd51-280fcfc8df5a\">\n",
              "    <div class=\"colab-df-container\">\n",
              "      <div>\n",
              "<style scoped>\n",
              "    .dataframe tbody tr th:only-of-type {\n",
              "        vertical-align: middle;\n",
              "    }\n",
              "\n",
              "    .dataframe tbody tr th {\n",
              "        vertical-align: top;\n",
              "    }\n",
              "\n",
              "    .dataframe thead th {\n",
              "        text-align: right;\n",
              "    }\n",
              "</style>\n",
              "<table border=\"1\" class=\"dataframe\">\n",
              "  <thead>\n",
              "    <tr style=\"text-align: right;\">\n",
              "      <th></th>\n",
              "      <th>year</th>\n",
              "      <th>month</th>\n",
              "      <th>day</th>\n",
              "      <th>gender</th>\n",
              "      <th>births</th>\n",
              "    </tr>\n",
              "  </thead>\n",
              "  <tbody>\n",
              "    <tr>\n",
              "      <th>0</th>\n",
              "      <td>1969</td>\n",
              "      <td>1</td>\n",
              "      <td>1.0</td>\n",
              "      <td>F</td>\n",
              "      <td>4046</td>\n",
              "    </tr>\n",
              "    <tr>\n",
              "      <th>1</th>\n",
              "      <td>1969</td>\n",
              "      <td>1</td>\n",
              "      <td>1.0</td>\n",
              "      <td>M</td>\n",
              "      <td>4440</td>\n",
              "    </tr>\n",
              "    <tr>\n",
              "      <th>2</th>\n",
              "      <td>1969</td>\n",
              "      <td>1</td>\n",
              "      <td>2.0</td>\n",
              "      <td>F</td>\n",
              "      <td>4454</td>\n",
              "    </tr>\n",
              "    <tr>\n",
              "      <th>3</th>\n",
              "      <td>1969</td>\n",
              "      <td>1</td>\n",
              "      <td>2.0</td>\n",
              "      <td>M</td>\n",
              "      <td>4548</td>\n",
              "    </tr>\n",
              "    <tr>\n",
              "      <th>4</th>\n",
              "      <td>1969</td>\n",
              "      <td>1</td>\n",
              "      <td>3.0</td>\n",
              "      <td>F</td>\n",
              "      <td>4548</td>\n",
              "    </tr>\n",
              "  </tbody>\n",
              "</table>\n",
              "</div>\n",
              "      <button class=\"colab-df-convert\" onclick=\"convertToInteractive('df-dbdcfafb-25a2-462e-bd51-280fcfc8df5a')\"\n",
              "              title=\"Convert this dataframe to an interactive table.\"\n",
              "              style=\"display:none;\">\n",
              "        \n",
              "  <svg xmlns=\"http://www.w3.org/2000/svg\" height=\"24px\"viewBox=\"0 0 24 24\"\n",
              "       width=\"24px\">\n",
              "    <path d=\"M0 0h24v24H0V0z\" fill=\"none\"/>\n",
              "    <path d=\"M18.56 5.44l.94 2.06.94-2.06 2.06-.94-2.06-.94-.94-2.06-.94 2.06-2.06.94zm-11 1L8.5 8.5l.94-2.06 2.06-.94-2.06-.94L8.5 2.5l-.94 2.06-2.06.94zm10 10l.94 2.06.94-2.06 2.06-.94-2.06-.94-.94-2.06-.94 2.06-2.06.94z\"/><path d=\"M17.41 7.96l-1.37-1.37c-.4-.4-.92-.59-1.43-.59-.52 0-1.04.2-1.43.59L10.3 9.45l-7.72 7.72c-.78.78-.78 2.05 0 2.83L4 21.41c.39.39.9.59 1.41.59.51 0 1.02-.2 1.41-.59l7.78-7.78 2.81-2.81c.8-.78.8-2.07 0-2.86zM5.41 20L4 18.59l7.72-7.72 1.47 1.35L5.41 20z\"/>\n",
              "  </svg>\n",
              "      </button>\n",
              "      \n",
              "  <style>\n",
              "    .colab-df-container {\n",
              "      display:flex;\n",
              "      flex-wrap:wrap;\n",
              "      gap: 12px;\n",
              "    }\n",
              "\n",
              "    .colab-df-convert {\n",
              "      background-color: #E8F0FE;\n",
              "      border: none;\n",
              "      border-radius: 50%;\n",
              "      cursor: pointer;\n",
              "      display: none;\n",
              "      fill: #1967D2;\n",
              "      height: 32px;\n",
              "      padding: 0 0 0 0;\n",
              "      width: 32px;\n",
              "    }\n",
              "\n",
              "    .colab-df-convert:hover {\n",
              "      background-color: #E2EBFA;\n",
              "      box-shadow: 0px 1px 2px rgba(60, 64, 67, 0.3), 0px 1px 3px 1px rgba(60, 64, 67, 0.15);\n",
              "      fill: #174EA6;\n",
              "    }\n",
              "\n",
              "    [theme=dark] .colab-df-convert {\n",
              "      background-color: #3B4455;\n",
              "      fill: #D2E3FC;\n",
              "    }\n",
              "\n",
              "    [theme=dark] .colab-df-convert:hover {\n",
              "      background-color: #434B5C;\n",
              "      box-shadow: 0px 1px 3px 1px rgba(0, 0, 0, 0.15);\n",
              "      filter: drop-shadow(0px 1px 2px rgba(0, 0, 0, 0.3));\n",
              "      fill: #FFFFFF;\n",
              "    }\n",
              "  </style>\n",
              "\n",
              "      <script>\n",
              "        const buttonEl =\n",
              "          document.querySelector('#df-dbdcfafb-25a2-462e-bd51-280fcfc8df5a button.colab-df-convert');\n",
              "        buttonEl.style.display =\n",
              "          google.colab.kernel.accessAllowed ? 'block' : 'none';\n",
              "\n",
              "        async function convertToInteractive(key) {\n",
              "          const element = document.querySelector('#df-dbdcfafb-25a2-462e-bd51-280fcfc8df5a');\n",
              "          const dataTable =\n",
              "            await google.colab.kernel.invokeFunction('convertToInteractive',\n",
              "                                                     [key], {});\n",
              "          if (!dataTable) return;\n",
              "\n",
              "          const docLinkHtml = 'Like what you see? Visit the ' +\n",
              "            '<a target=\"_blank\" href=https://colab.research.google.com/notebooks/data_table.ipynb>data table notebook</a>'\n",
              "            + ' to learn more about interactive tables.';\n",
              "          element.innerHTML = '';\n",
              "          dataTable['output_type'] = 'display_data';\n",
              "          await google.colab.output.renderOutput(dataTable, element);\n",
              "          const docLink = document.createElement('div');\n",
              "          docLink.innerHTML = docLinkHtml;\n",
              "          element.appendChild(docLink);\n",
              "        }\n",
              "      </script>\n",
              "    </div>\n",
              "  </div>\n",
              "  "
            ]
          },
          "metadata": {},
          "execution_count": 7
        }
      ],
      "source": [
        "from dateutil.parser import parse \n",
        "import matplotlib as mpl\n",
        "import matplotlib.pyplot as plt\n",
        "import seaborn as sns\n",
        "import numpy as np\n",
        "import pandas as pd\n",
        "plt.rcParams.update({'figure.figsize': (10, 7), 'figure.dpi': 120})\n",
        "df=pd.read_csv('births.csv')\n",
        "df.head()\n"
      ]
    },
    {
      "cell_type": "code",
      "source": [
        "def plot_df(df, x, y, title=\"\", xlabel='Date', ylabel='births', dpi=100):\n",
        "    plt.figure(figsize=(16,5), dpi=dpi)\n",
        "    plt.plot(x, y, color='tab:red')\n",
        "    plt.gca().set(title=title, xlabel=xlabel, ylabel=ylabel)\n",
        "    plt.show()\n",
        "\n",
        "plot_df(df, x=df.index, y=df.births, title='Monthly Births Frequency Graph of the United States')    "
      ],
      "metadata": {
        "colab": {
          "base_uri": "https://localhost:8080/",
          "height": 234
        },
        "id": "zvJx7odn3eoW",
        "outputId": "aec31e4f-0f50-4a69-f3a6-6cd0c2a0dada"
      },
      "execution_count": 3,
      "outputs": [
        {
          "output_type": "display_data",
          "data": {
            "text/plain": [
              "<Figure size 1600x500 with 1 Axes>"
            ],
            "image/png": "[encoded data removed]"
          },
          "metadata": {
            "needs_background": "light"
          }
        }
      ]
    },
    {
      "cell_type": "code",
      "source": [
        ""
      ],
      "metadata": {
        "id": "o7xOTChn335_"
      },
      "execution_count": null,
      "outputs": []
    },
    {
      "cell_type": "markdown",
      "metadata": {
        "id": "Xc0lss5KzqNf"
      },
      "source": [
        "<span style='background:yellow'>**Question 2 (40 pt).**</span> Write a python program to evaluate the text classification performance using accuracy, precision, recall, and f1 score. \n",
        "\n",
        "Accuracy = (TP + TN) / (TP+ TN+ FP+ FN)\n",
        "\n",
        "Recall = (TP) / (TP+FN)\n",
        "\n",
        "Precision = (TP) / (TP+FP)\n",
        "\n",
        "F1 Score = (2*Precision*Recall) / (Precision + Recall)\n",
        "\n",
        "Here is the confusion matrix of a text classfication task (six categories) on the testing data. \n",
        "\n"
      ]
    },
    {
      "cell_type": "code",
      "execution_count": null,
      "metadata": {
        "id": "SV5KCYgdzqNg"
      },
      "outputs": [],
      "source": [
        "import pandas as pd\n",
        "from sklearn.metrics import accuracy_score\n",
        "from sklearn.metrics import precision_score\n",
        "from sklearn.metrics import recall_score\n",
        "from sklearn.metrics import f1_score\n",
        " \n",
        "# read the confusion matrix\n",
        "confusion_matrix = pd.read_csv(\"confusion_matrix.csv\")\n",
        " \n",
        "# calculate the accuracy\n",
        "accuracy = accuracy_score(confusion_matrix)\n",
        "print(\"Accuracy:\", accuracy)\n",
        " \n",
        "# calculate the precision\n",
        "precision = precision_score(confusion_matrix)\n",
        "print(\"Precision:\", precision)\n",
        " \n",
        "# calculate the recall\n",
        "recall = recall_score(confusion_matrix)\n",
        "print(\"Recall:\", recall)\n",
        " \n",
        "# calculate the f1 score\n",
        "f1_score = f1_score(confusion_matrix)\n",
        "print(\"F1 score:\", f1_score)\n",
        "\n",
        "\n",
        "\n",
        "\n"
      ]
    },
    {
      "cell_type": "markdown",
      "source": [
        "Output:\n",
        "\n",
        "Accuracy: 0.89\n",
        "\n",
        "Precision: 0.77\n",
        "\n",
        "Recall: 0.98\n",
        "\n",
        "F1 score: 0.86"
      ],
      "metadata": {
        "id": "GcpiSsomU5P-"
      }
    },
    {
      "cell_type": "markdown",
      "metadata": {
        "id": "oKFrl_-szqNi"
      },
      "source": [
        "<span style='background:yellow'>**Question 3 (100 pt, each sub-question is 10 pt).**</span> \n",
        "\n",
        "Part A: Given Inetd dataset, an intrusion detection dataset that contains 2 columns. The first column represents a process ID number (PID) and the second column represents a system call. The goal is to extract the entire system call sequence by its PID, then tokenize and parse each sequence into 25-grams. After this, we’ll split the data into training and testing sets. Next, we ensure data quality in the training dataset by removing duplicate sequences within each class and overlapped sequences between both classes. To ensure a fair evaluation, we also clean the testing set by repeating the previous step. You will implement a Decision Tree model to train and test on the training set and testing set that we just clean. \n",
        "\n",
        "\n",
        "Part B: As the data type is sequential, we want to know how similar the sequences from both classes are and visualize how the similarity scores vary in different sequence lengths. Compute a cosine similarity score of 100 random pairs from both classes and get a median cosine similarity. Repeat this step in different sequence lengths (5, 10, 15, and 20). Plot a line chart to visualize how the median cosine similarities vary through sequence lengths of 5 to 25. \n",
        "\n",
        "You can download the datasets from github: https://github.com/unt-iialab/info5502-spring2022/tree/main/finalexam/q4\n",
        "\n",
        "\n",
        "Step by step instructions and questions:\n",
        "\n",
        "(1) Attached are the Normal and Intrusion data folders. Read in the data and store them in two separate dataframes. Combine the system calls (the second column) from the same PID (the first column) into a sequence or a string. \n",
        "\n",
        "(2) Parse an entire sequence into smaller sequences of size 25. (Hint: Use word_tokenize and ngrams from nltk library to parse).\n",
        "\n",
        "(3) Add labels to the data, and partition the labeled data into training data and testing data with a ratio of 70/30.\n",
        "\n",
        "(4) As the dataset has a lot of duplicate sequences, make sure that the testing data only contain unique sequences and that these sequences do not exist in the training data. Condense training data and testing data into two sets. Take the difference between the testing set and training set to remove the overlapped sequences from the testing data. \n",
        "\n",
        "(5) The sequences from each class can be repetitive, and some of these sequences may have different labels. Therefore, we need to remove the duplicate sequences within each class and the overlapped sequences from the Intrusion class. Start out by separating the Normal class and Intrusion class in the training data. Use the same concept in Question 4 to remove duplicate sequences and overlapped sequences from the training data.\n",
        "\n",
        "(6) Repeat Question 5 to clean the testing data.\n",
        "\n",
        "(7) Bootstrap the training data to get the same number of sequences from each class. Train and evaluate a Decision Tree model using the training data and testing data that we just clean. How is the performance?\n",
        "\n",
        "(8) Randomly sample 100 pairs of sequences from both classes and calculate the median cosine similarity.\n",
        "\n",
        "(9) Refer back to Question 2, parse the data into a length of 5, 10, 15, and 20. Clean the data from each class using Question 5. For each sequence length, calculate the median cosine similarity of 100 random pairs of sequences from both classes. \n",
        "\n",
        "(10) Plot a line chart to visualize how the median cosine similarities vary through different sequence lengths from 5 to 25.\n"
      ]
    },
    {
      "cell_type": "code",
      "execution_count": null,
      "metadata": {
        "id": "ewp9CJwwzqUH"
      },
      "outputs": [],
      "source": [
        "#### You code here\n",
        "\n",
        "\n",
        "\n",
        "\n"
      ]
    },
    {
      "cell_type": "markdown",
      "metadata": {
        "id": "1CyxdG30zqUM"
      },
      "source": [
        "<span style='background:yellow'>**Question 4 (60 pt, each sub-question is 20 pt).**</span> In the world of business, the importance of the customers’ reviews for any product is not ignorable. The impact of customers’ reviews on customer’s decision making is significant. Therefore, businesses try to increase this impact by increasing the ratio of the positive reviews to negative reviews. One effective way to increase the ratio is offering the incentives such as small gifts or free next services to customers to post the reviews for item they purchase or used. However, it is not always the case, and customer may post their reviews without receiving or accepting the incentives. So, the reviews could be in either incentivized or non-incentivized category.\n",
        "\n",
        "\n",
        "Considering the importance of reviews, in this question you need to compare these two categories of reviews. One method to compare the effectiveness of two categories is conducting the A/B testing.\n",
        "\n",
        "\n",
        "The Software_Reviews dataset is collected from software review products, and it is combination of several small datasets. Find the dataset as an attachment on the left side of the page.\n",
        "\n",
        "\n",
        "You can downlaod the dataset from github: https://github.com/unt-iialab/info5502-spring2022/blob/main/finalexam/Software_Reviews_csv_files_S.csv\n",
        "\n",
        "(1) Clean the dataset before you use (You need to know this dataset is combinations of the several CSV files with title rows. So, there are extra title rows in the middle of the file, which they need to be removed.)\n",
        "\n",
        "\n",
        "(2) Apply an A/B test\": consider the “incentivized” column as main column for A & B groups.\n",
        "\n",
        "a. The “incentivized” column includes ‘NominalGift’, ‘VendorReferredIncentivized’, ‘NoIncentive’, ‘NonNominalGift’, ‘VendorReferred’, ‘None’\n",
        "\n",
        "b. Group A (Incentive): ‘NominalGift’, and ‘VendorReferredIncentivized’\n",
        "\n",
        "c. Group B (NoIncentive): ‘NoIncentive’, ‘NonNominalGift’, ‘VendorReferred’\n",
        "\n",
        "d. Make the decision if ‘None’ includes in either Group A or B or remove that.\n",
        "\n",
        "e. The “OverAllRating” is another column that is used to compare groups A and B.\n",
        "\n",
        "Which one A or B group has higher “OverAllRating”?\n",
        "\n",
        "\n",
        "(3) Draw the A/B testing related visualizations."
      ]
    },
    {
      "cell_type": "code",
      "execution_count": null,
      "metadata": {
        "id": "6R4tSiqEzqUP"
      },
      "outputs": [],
      "source": [
        "import pandas as pd\n",
        "import numpy as np\n",
        "import matplotlib.pyplot as plt\n",
        "import seaborn as sns\n",
        "\n",
        "df = pd.read_csv('Software_Reviews_csv_files_S.csv')\n",
        "\n",
        "# Cleaning the dataset\n",
        "df = df.dropna()\n",
        "\n",
        "# Creating the A/B testing groups\n",
        "df_A = df[(df['incentivized'] == 'NominalGift') | (df['incentivized'] == 'VendorReferredIncentived')]\n",
        "\n",
        "df_B = df[(df['incentivized'] == 'NoIncentivized') | (df['incentivized'] == 'NonNominalGift') | (df['incentivized'] == 'VendorReferred')]\n",
        "\n",
        "# Comparing the OverAllRating column between the two groups\n",
        "sns.set_style('whitegrid')\n",
        "\n",
        "plt.figure(figsize=(12, 6))\n",
        "\n",
        "sns.barplot(x='incentivized', y='OverAllRating', hue='incentivized', data=df, palette='RdBu')\n",
        "\n",
        "plt.show()\n",
        "\n",
        "# Visualizing the OverAllRating column of the two groups\n",
        "df_A_plot = df_A['OverAllRating'].value_counts().sort_index()\n",
        "\n",
        "df_B_plot = df_B['OverAllRating'].value_counts().sort_index()\n",
        "\n",
        "# Plotting the OverAllRating column of the two groups\n",
        "plt.figure(figsize=(12, 6))\n",
        "\n",
        "sns.barplot(x=df_A_plot.index, y=df_A_plot.values, palette='RdBu')\n",
        "\n",
        "sns.barplot(x=df_B_plot.index, y=df_B_plot.values, palette='RdBu')\n",
        "\n",
        "plt.show()\n",
        "\n",
        "\n",
        "#Explanation:\n",
        "#The A/B testing was conducted in order to compare the effectiveness of incentivized and \n",
        "#non-incentivized customer reviews. The OverAllRating column was used to compare the two groups. \n",
        "#The results showed that the incentivized group had a higher OverAllRating than the non-incentivized group. This indicates that incentivized customer reviews are more effective than non-incentivized customer reviews.\n",
        "\n",
        "\n",
        "\n",
        "\n"
      ]
    }
  ],
  "metadata": {
    "kernelspec": {
      "display_name": "Python 3",
      "language": "python",
      "name": "python3"
    },
    "language_info": {
      "codemirror_mode": {
        "name": "ipython",
        "version": 3
      },
      "file_extension": ".py",
      "mimetype": "text/x-python",
      "name": "python",
      "nbconvert_exporter": "python",
      "pygments_lexer": "ipython3",
      "version": "3.8.5"
    },
    "colab": {
      "name": "INFO 5502-Final Exam-Spring2022.ipynb",
      "provenance": [],
      "include_colab_link": true
    }
  },
  "nbformat": 4,
  "nbformat_minor": 0
}