{
  "cells": [
    {
      "cell_type": "markdown",
      "metadata": {
        "id": "XVU_9wWlyxZP"
      },
      "source": [
        "The purpose of this exercise is to understand Exploratory Data Analysis, we will practice the EDA by working on multiple datasets which have different characteristics."
      ]
    },
    {
      "cell_type": "markdown",
      "metadata": {
        "id": "jf2to_8lyxZF"
      },
      "source": [
        "## The fourth Lab-assignment (02/17/2022, 50 points in total)"
      ]
    },
    {
      "cell_type": "markdown",
      "metadata": {
        "id": "nXexEQtnyxZQ"
      },
      "source": [
        "Question 1 (15 points). Understand a text corpus for domain-specific text classification. Download the dataset from the following link: https://osf.io/8mjcy/ . Conduct EDA of the dataset from the following aspects:\n",
        "\n",
        "(1) How many categories in total?\n",
        "\n",
        "(2) How many documents under each category?\n",
        "\n",
        "(3) What is the avergae number of sentence (on average)?\n",
        "\n",
        "(4) What is the average number of words (on average)?\n",
        "\n",
        "(5) Visualize the top 50 terms and rank the terms by frquency (remove stop words first: https://gist.github.com/sebleier/554280)."
      ]
    },
    {
      "cell_type": "code",
      "source": [
        "from zipfile import ZipFile\n",
        "from collections import Counter\n",
        "import nltk\n",
        "nltk.download('stopwords')\n",
        "from nltk.corpus import stopwords\n",
        "\n",
        "#Reading the zip file and obtaining files information\n",
        "with ZipFile(\"preprocessed_cases[cases_29404].zip\",'r') as zip1:\n",
        "  file_info_list=zip1.infolist()\n",
        "\n",
        "#Getting all the folders inside parent folder\n",
        "Categories=[]\n",
        "parent_dir='preprocessed_cases[cases_29404]/'\n",
        "for file_info in file_info_list:\n",
        "  if(file_info.is_dir() and file_info.filename!=parent_dir):\n",
        "    Categories.append(int(file_info.filename.split('/')[-2]))\n",
        "print('1)Total number of Categories is', len(Categories))\n",
        "\n",
        "#The file for each category\n",
        "Categories.sort()\n",
        "for Category in Categories:\n",
        "  documents_count=0\n",
        "  for file_info in file_info_list:\n",
        "   if(file_info.is_dir()==False and file_info.filename.startwith(parent_dir+str(Category)+'/')\n",
        "     (documents_count)+  1\n",
        "print(' Total number of docuents in {}Category is {}'.format(Category, documents_count))\n",
        "\n",
        "#Declaring the required variables\n",
        "sentence_count=0\n",
        "file_count=0\n",
        "words[]\n",
        "stop_words=stopwords('english')\n",
        "\n"
      ],
      "metadata": {
        "colab": {
          "base_uri": "https://localhost:8080/",
          "height": 134
        },
        "id": "frhSA2zLGwXz",
        "outputId": "4a3b8c7d-9e4f-4e9f-fb4e-8f460c73eb50"
      },
      "execution_count": null,
      "outputs": [
        {
          "output_type": "error",
          "ename": "SyntaxError",
          "evalue": "ignored",
          "traceback": [
            "\u001b[0;36m  File \u001b[0;32m\"<ipython-input-26-7bf165860359>\"\u001b[0;36m, line \u001b[0;32m28\u001b[0m\n\u001b[0;31m    sentence_count=0\u001b[0m\n\u001b[0m                 ^\u001b[0m\n\u001b[0;31mSyntaxError\u001b[0m\u001b[0;31m:\u001b[0m invalid syntax\n"
          ]
        }
      ]
    },
    {
      "cell_type": "markdown",
      "source": [
        "#import the required modules\n",
        "from zipfile import ZipFile\n",
        "from collections import Counter\n",
        "import nltk\n",
        "from nltk.corpus import stopwords\n",
        "# To read the the zip file, and obtain files info,\n",
        "with ZipFile('preprocessed_cases[cases_29404].zip'):\n",
        "  file_info_list=zipObj.infolist()\n",
        "# To get all the folders inside the parent folder,\n",
        "categories=[]\n",
        "parent_dir= 'preprocessed_cases[cases_29404]/'\n",
        "for file_info in file_info_list:\n",
        "  if(file_info.is_dir() and file_info.filename!= parent_dir):\n",
        "    categories.append(int(file_info.filename.split('/')[-2]))\n",
        "print('1) Total number of categories is', len(categories))\n",
        "# The files under each category\n",
        "categories.sort()\n",
        "for category in categories:\n",
        "  documents_count=0\n",
        "  for file_info in file_info_list:\n",
        "   if(file_info.is_dir()==False and file_info.filename.startswith(parent_dir+str(category)+'/')\n",
        "     (documents_count)+1\n",
        "print('Total number of documents in {} category is {}').documents_count)\n",
        "# Declaring the required variables\n",
        "  sentence_count=0\n",
        "file_count=0\n",
        "words=[]\n",
        "stop_words=stopwords.words('english')\n",
        "    \n",
        "      \n",
        "\n",
        "\n",
        " \n",
        "\n",
        "\n",
        "\n",
        "\n",
        "\n"
      ],
      "metadata": {
        "id": "RjFa77lnyxZR"
      }
    },
    {
      "cell_type": "markdown",
      "source": [
        ""
      ],
      "metadata": {
        "id": "FKtSw48_C_l1"
      }
    },
    {
      "cell_type": "markdown",
      "metadata": {
        "id": "zLiHQuWHyxZT"
      },
      "source": [
        "Question 2 (20 points). Continue practicing how to do simple exploratory data analysis with Python. The dataset that has been used in this question is called Student Academics Performance Data Set, which can be downloaded at: https://github.com/unt-iialab/info5502-spring2022/blob/main/datasets/lab-assignment-04-student-performance.csv . Please conduct the following analysis:\n",
        "\n",
        "(1) Description of all the columns: for each colmun, count number of rows, number of unqiue element, the frequency of each unqiue element. \n",
        "\n",
        "\n",
        "(2)  Visualize the count for each value in the 'Study Hours' column. Note: Study Hours values comes from this >= 6 hours Good >= 4 hours Average < 2 hours Poor.\n",
        "\n",
        "(3) Using factorplot to show the relationship between numerical and categorical value. Please use figure to show relation between [Study Hours] and [End Semester Percentage]. Percentage is calculated based on the following:\n",
        "\n",
        "if percentage >=80 then Best\n",
        "If percentage >= 60 but less than 80 then Very Good\n",
        "If percentage >= 45 but less than 60 then Good\n",
        "If Percentage >= 30 but less than 45 then Pass\n",
        "If Percentage < 30 then Fail\n",
        "\n",
        "(4) Get the correlation from the data, then plug it to heatmap function and show it as following:\n",
        "\n",
        "![heatmap.png](attachment:heatmap.png)"
      ]
    },
    {
      "cell_type": "code",
      "source": [
        "import seaborn as sns"
      ],
      "metadata": {
        "id": "4wSQJeJh8GGw"
      },
      "execution_count": null,
      "outputs": []
    },
    {
      "cell_type": "code",
      "execution_count": null,
      "metadata": {
        "id": "8Q5gP86CyxZU",
        "colab": {
          "base_uri": "https://localhost:8080/",
          "height": 1000
        },
        "outputId": "70e04a56-df28-4231-8f27-0f76d79a8e4f"
      },
      "outputs": [
        {
          "output_type": "stream",
          "name": "stdout",
          "text": [
            "1. EDA\n",
            "---------------\n",
            "Column: ge\n",
            "---------------\n",
            "The number of Rows is: 131\n",
            "The number of unique elements is: 2\n",
            "The frequency of each unique element is:\n",
            "M    72\n",
            "F    59\n",
            "\n",
            "\n",
            "---------------\n",
            "Column: cst\n",
            "---------------\n",
            "The number of Rows is: 131\n",
            "The number of unique elements is: 5\n",
            "The frequency of each unique element is:\n",
            "OBC     57\n",
            "G       44\n",
            "ST      20\n",
            "MOBC     6\n",
            "SC       4\n",
            "\n",
            "\n",
            "---------------\n",
            "Column: tnp\n",
            "---------------\n",
            "The number of Rows is: 131\n",
            "The number of unique elements is: 4\n",
            "The frequency of each unique element is:\n",
            "Good    59\n",
            "Vg      38\n",
            "Pass    25\n",
            "Best     9\n",
            "\n",
            "\n",
            "---------------\n",
            "Column: twp\n",
            "---------------\n",
            "The number of Rows is: 131\n",
            "The number of unique elements is: 4\n",
            "The frequency of each unique element is:\n",
            "Good    65\n",
            "Vg      44\n",
            "Pass    17\n",
            "Best     5\n",
            "\n",
            "\n",
            "---------------\n",
            "Column: iap\n",
            "---------------\n",
            "The number of Rows is: 131\n",
            "The number of unique elements is: 4\n",
            "The frequency of each unique element is:\n",
            "Vg      63\n",
            "Good    53\n",
            "Best     8\n",
            "Pass     7\n",
            "\n",
            "\n",
            "---------------\n",
            "Column: esp\n",
            "---------------\n",
            "The number of Rows is: 131\n",
            "The number of unique elements is: 4\n",
            "The frequency of each unique element is:\n",
            "Good    54\n",
            "Vg      42\n",
            "Pass    27\n",
            "Best     8\n",
            "\n",
            "\n",
            "---------------\n",
            "Column: arr\n",
            "---------------\n",
            "The number of Rows is: 131\n",
            "The number of unique elements is: 2\n",
            "The frequency of each unique element is:\n",
            "N    78\n",
            "Y    53\n",
            "\n",
            "\n",
            "---------------\n",
            "Column: ms\n",
            "---------------\n",
            "The number of Rows is: 131\n",
            "The number of unique elements is: 1\n",
            "The frequency of each unique element is:\n",
            "Unmarried    131\n",
            "\n",
            "\n",
            "---------------\n",
            "Column: ls\n",
            "---------------\n",
            "The number of Rows is: 131\n",
            "The number of unique elements is: 2\n",
            "The frequency of each unique element is:\n",
            "V    92\n",
            "T    39\n",
            "\n",
            "\n",
            "---------------\n",
            "Column: as\n",
            "---------------\n",
            "The number of Rows is: 131\n",
            "The number of unique elements is: 2\n",
            "The frequency of each unique element is:\n",
            "Paid    76\n",
            "Free    55\n",
            "\n",
            "\n",
            "---------------\n",
            "Column: fmi\n",
            "---------------\n",
            "The number of Rows is: 131\n",
            "The number of unique elements is: 5\n",
            "The frequency of each unique element is:\n",
            "Medium    63\n",
            "Am        27\n",
            "Low       20\n",
            "High      15\n",
            "Vh         6\n",
            "\n",
            "\n",
            "---------------\n",
            "Column: fs\n",
            "---------------\n",
            "The number of Rows is: 131\n",
            "The number of unique elements is: 3\n",
            "The frequency of each unique element is:\n",
            "Small      89\n",
            "Average    40\n",
            "Large       2\n",
            "\n",
            "\n",
            "---------------\n",
            "Column: fq\n",
            "---------------\n",
            "The number of Rows is: 131\n",
            "The number of unique elements is: 6\n",
            "The frequency of each unique element is:\n",
            "Um        40\n",
            "10        23\n",
            "12        22\n",
            "Il        20\n",
            "Degree    20\n",
            "Pg         6\n",
            "\n",
            "\n",
            "---------------\n",
            "Column: mq\n",
            "---------------\n",
            "The number of Rows is: 131\n",
            "The number of unique elements is: 6\n",
            "The frequency of each unique element is:\n",
            "Um        52\n",
            "Il        27\n",
            "10        25\n",
            "12        17\n",
            "Degree     7\n",
            "Pg         3\n",
            "\n",
            "\n",
            "---------------\n",
            "Column: fo\n",
            "---------------\n",
            "The number of Rows is: 131\n",
            "The number of unique elements is: 5\n",
            "The frequency of each unique element is:\n",
            "Service     38\n",
            "Business    34\n",
            "Others      29\n",
            "Farmer      27\n",
            "Retired      3\n",
            "\n",
            "\n",
            "---------------\n",
            "Column: mo\n",
            "---------------\n",
            "The number of Rows is: 131\n",
            "The number of unique elements is: 5\n",
            "The frequency of each unique element is:\n",
            "Housewife    115\n",
            "Service       12\n",
            "Others         2\n",
            "Business       1\n",
            "Retired        1\n",
            "\n",
            "\n",
            "---------------\n",
            "Column: nf\n",
            "---------------\n",
            "The number of Rows is: 131\n",
            "The number of unique elements is: 3\n",
            "The frequency of each unique element is:\n",
            "Large      58\n",
            "Average    43\n",
            "Small      30\n",
            "\n",
            "\n",
            "---------------\n",
            "Column: sh\n",
            "---------------\n",
            "The number of Rows is: 131\n",
            "The number of unique elements is: 3\n",
            "The frequency of each unique element is:\n",
            "Average    59\n",
            "Poor       45\n",
            "Good       27\n",
            "\n",
            "\n",
            "---------------\n",
            "Column: ss\n",
            "---------------\n",
            "The number of Rows is: 131\n",
            "The number of unique elements is: 2\n",
            "The frequency of each unique element is:\n",
            "Govt       91\n",
            "Private    40\n",
            "\n",
            "\n",
            "---------------\n",
            "Column: me\n",
            "---------------\n",
            "The number of Rows is: 131\n",
            "The number of unique elements is: 4\n",
            "The frequency of each unique element is:\n",
            "Eng    62\n",
            "Asm    60\n",
            "Hin     7\n",
            "Ben     2\n",
            "\n",
            "\n",
            "---------------\n",
            "Column: tt\n",
            "---------------\n",
            "The number of Rows is: 131\n",
            "The number of unique elements is: 3\n",
            "The frequency of each unique element is:\n",
            "Small      78\n",
            "Average    43\n",
            "Large      10\n",
            "\n",
            "\n",
            "---------------\n",
            "Column: atd\n",
            "---------------\n",
            "The number of Rows is: 131\n",
            "The number of unique elements is: 3\n",
            "The frequency of each unique element is:\n",
            "Good       56\n",
            "Average    47\n",
            "Poor       28\n",
            "\n",
            "\n",
            "\n",
            "2. Visualize Study Hours Column\n"
          ]
        },
        {
          "output_type": "display_data",
          "data": {
            "image/png": "[encoded data removed]",
            "text/plain": [
              "<Figure size 432x288 with 1 Axes>"
            ]
          },
          "metadata": {
            "needs_background": "light"
          }
        },
        {
          "output_type": "stream",
          "name": "stdout",
          "text": [
            "\n",
            "3. The Factor Plot\n"
          ]
        },
        {
          "output_type": "display_data",
          "data": {
            "image/png": "[encoded data removed]",
            "text/plain": [
              "<Figure size 360x360 with 1 Axes>"
            ]
          },
          "metadata": {
            "needs_background": "light"
          }
        },
        {
          "output_type": "stream",
          "name": "stdout",
          "text": [
            "\n",
            "4. Correlation Heatmap\n"
          ]
        },
        {
          "output_type": "display_data",
          "data": {
            "image/png": "[encoded data removed]",
            "text/plain": [
              "<Figure size 576x432 with 2 Axes>"
            ]
          },
          "metadata": {}
        }
      ],
      "source": [
        "df_data=pd.read_csv('lab-assignment-04-student-performance.csv')\n",
        "df = df_data.copy() # Create a copy of the original DataFrame\n",
        "# 1. Description of all the columns\n",
        "print(\"1. EDA\")\n",
        "for column in df.columns:\n",
        "    print(\"---------------\")\n",
        "    print(\"Column:\",column)\n",
        "    print(\"---------------\")\n",
        "    print(\"The number of Rows is:\",len(df[column]))\n",
        "    print(\"The number of unique elements is:\",len(df[column].unique()))\n",
        "    print(f\"The frequency of each unique element is:\\n{df[column].value_counts().to_string()}\")\n",
        "    print(\"\\n\")\n",
        "\n",
        "# 2. Visualize the count of each value in the Study Hours column.\n",
        "print(\"\\n2. Visualize Study Hours Column\")\n",
        "df['sh'].value_counts().plot(kind = 'bar')\n",
        "plt.ylabel(\"Frequency\")\n",
        "plt.xticks(ticks = [0,1,2], \n",
        "           labels = [\"Average (>= 4 Hours)\", \"Good (>= 6 Hours)\", \"Poor (< 2 Hours)\"], rotation = 45)\n",
        "plt.show()\n",
        "\n",
        "# 3. Using factor plot to represent r/ship between Numerical and Categorical Value\n",
        "### Create two new columns where study hours has been mapped to numerical values and\n",
        "### End semester performance has been mapped to a categorized values\n",
        "dict_1 = {'Best':'>= 80', 'Vg':'60 <= P <80', 'Good':'45 <= P < 60','Pass':'30 <= P < 45','Fail':'< 30'}\n",
        "dict_2 = {'Good':3, \"Average\":2, \"Poor\":1}\n",
        "\n",
        "df['nesp'] = df['esp'].map(dict_1)\n",
        "df['nsh'] = df['sh'].map(dict_2)\n",
        "\n",
        "########### THE FACTORPLOT #########\n",
        "\n",
        "#### the 'sns.factorplot' is going to be REMOVED in the future, so we will default to catplot and set the argument\n",
        "#### kind = 'point'\n",
        "print(\"\\n3. The Factor Plot\")\n",
        "sns.catplot(x='nesp', y = 'nsh', data=df, kind='point')\n",
        "plt.xlabel(\"End Semester Performance\")\n",
        "plt.ylabel(\"Study Hours\")\n",
        "plt.yticks(ticks = [1,2,3], labels = [\"(< 2 Hours)\",\"(>= 4 Hours)\", \"(>= 6 Hours)\"])\n",
        "plt.show()\n",
        "\n",
        "# Finding the correlation of the Variables\n",
        "print(\"\\n4. Correlation Heatmap\")\n",
        "corr = df_data.apply(lambda x : pd.factorize(x)[0]).corr(method='pearson', min_periods=1)\n",
        "\n",
        "# Plugging them into the heat map\n",
        "sns.set(rc={'figure.figsize':(8, 6)}) # Set a big figure for more clarity\n",
        "sns.heatmap(corr)\n",
        "plt.title(\"Correlation Heatmap\")\n",
        "plt.show()\n",
        "\n",
        "\n",
        "\n",
        "\n",
        "\n",
        "\n",
        "\n",
        "\n",
        "\n",
        "\n",
        "\n",
        "\n",
        "\n",
        "\n"
      ]
    },
    {
      "cell_type": "markdown",
      "source": [
        ""
      ],
      "metadata": {
        "id": "dYsnnIdIXFV2"
      }
    },
    {
      "cell_type": "markdown",
      "metadata": {
        "id": "0i3RUsOWyxZV"
      },
      "source": [
        "Question 3 (15 points). Download a dataset from Kaggle or other sources. Propose three questions that you wanna to know from the dataset, then write python code to conduct EDA analysis to answer the three questions"
      ]
    },
    {
      "cell_type": "code",
      "execution_count": null,
      "metadata": {
        "id": "xgUEKZDxyxZW"
      },
      "outputs": [],
      "source": [
        "# Your three questions:\n",
        "\n",
        "#1. What is the distribution of the sales price?\n",
        "#2. What is the median value of the sales price?\n",
        "#3. How correlated are the building characteristics with the SalePrice?\n",
        "\n",
        "\n",
        "\n",
        "\n"
      ]
    },
    {
      "cell_type": "markdown",
      "source": [
        ""
      ],
      "metadata": {
        "id": "61ul02vniWis"
      }
    },
    {
      "cell_type": "code",
      "execution_count": null,
      "metadata": {
        "colab": {
          "resources": {
            "http://localhost:8080/nbextensions/google.colab/files.js": {
              "data": "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",
              "ok": true,
              "headers": [
                [
                  "content-type",
                  "application/javascript"
                ]
              ],
              "status": 200,
              "status_text": ""
            }
          },
          "base_uri": "https://localhost:8080/",
          "height": 562
        },
        "id": "ZHj48AsCyxZY",
        "outputId": "572feb13-4924-4642-ece9-18c7792a1828"
      },
      "outputs": [
        {
          "output_type": "display_data",
          "data": {
            "text/html": [
              "\n",
              "     <input type=\"file\" id=\"files-cb303100-3651-4d2d-b895-eb3e198f7a21\" name=\"files[]\" multiple disabled\n",
              "        style=\"border:none\" />\n",
              "     <output id=\"result-cb303100-3651-4d2d-b895-eb3e198f7a21\">\n",
              "      Upload widget is only available when the cell has been executed in the\n",
              "      current browser session. Please rerun this cell to enable.\n",
              "      </output>\n",
              "      <script src=\"/nbextensions/google.colab/files.js\"></script> "
            ],
            "text/plain": [
              "<IPython.core.display.HTML object>"
            ]
          },
          "metadata": {}
        },
        {
          "output_type": "stream",
          "name": "stdout",
          "text": [
            "Saving data.xlsx to data (2).xlsx\n"
          ]
        },
        {
          "output_type": "execute_result",
          "data": {
            "text/html": [
              "\n",
              "  <div id=\"df-77e65c1b-047b-4552-8778-e605db449d85\">\n",
              "    <div class=\"colab-df-container\">\n",
              "      <div>\n",
              "<style scoped>\n",
              "    .dataframe tbody tr th:only-of-type {\n",
              "        vertical-align: middle;\n",
              "    }\n",
              "\n",
              "    .dataframe tbody tr th {\n",
              "        vertical-align: top;\n",
              "    }\n",
              "\n",
              "    .dataframe thead th {\n",
              "        text-align: right;\n",
              "    }\n",
              "</style>\n",
              "<table border=\"1\" class=\"dataframe\">\n",
              "  <thead>\n",
              "    <tr style=\"text-align: right;\">\n",
              "      <th></th>\n",
              "      <th>Id</th>\n",
              "      <th>LotArea</th>\n",
              "      <th>OverallQual</th>\n",
              "      <th>BsmtFinSF1</th>\n",
              "      <th>TotalBsmtSF</th>\n",
              "      <th>GrLivArea</th>\n",
              "      <th>GarageCars</th>\n",
              "      <th>YrSold</th>\n",
              "      <th>SalePrice</th>\n",
              "    </tr>\n",
              "  </thead>\n",
              "  <tbody>\n",
              "    <tr>\n",
              "      <th>0</th>\n",
              "      <td>1</td>\n",
              "      <td>8450</td>\n",
              "      <td>7</td>\n",
              "      <td>706</td>\n",
              "      <td>856</td>\n",
              "      <td>1710</td>\n",
              "      <td>2</td>\n",
              "      <td>2008</td>\n",
              "      <td>208500</td>\n",
              "    </tr>\n",
              "    <tr>\n",
              "      <th>1</th>\n",
              "      <td>2</td>\n",
              "      <td>9600</td>\n",
              "      <td>6</td>\n",
              "      <td>978</td>\n",
              "      <td>1262</td>\n",
              "      <td>1262</td>\n",
              "      <td>2</td>\n",
              "      <td>2007</td>\n",
              "      <td>181500</td>\n",
              "    </tr>\n",
              "    <tr>\n",
              "      <th>2</th>\n",
              "      <td>3</td>\n",
              "      <td>11250</td>\n",
              "      <td>7</td>\n",
              "      <td>486</td>\n",
              "      <td>920</td>\n",
              "      <td>1786</td>\n",
              "      <td>2</td>\n",
              "      <td>2008</td>\n",
              "      <td>223500</td>\n",
              "    </tr>\n",
              "    <tr>\n",
              "      <th>3</th>\n",
              "      <td>4</td>\n",
              "      <td>9550</td>\n",
              "      <td>7</td>\n",
              "      <td>216</td>\n",
              "      <td>756</td>\n",
              "      <td>1717</td>\n",
              "      <td>3</td>\n",
              "      <td>2006</td>\n",
              "      <td>140000</td>\n",
              "    </tr>\n",
              "    <tr>\n",
              "      <th>4</th>\n",
              "      <td>5</td>\n",
              "      <td>14260</td>\n",
              "      <td>8</td>\n",
              "      <td>655</td>\n",
              "      <td>1145</td>\n",
              "      <td>2198</td>\n",
              "      <td>3</td>\n",
              "      <td>2008</td>\n",
              "      <td>250000</td>\n",
              "    </tr>\n",
              "    <tr>\n",
              "      <th>...</th>\n",
              "      <td>...</td>\n",
              "      <td>...</td>\n",
              "      <td>...</td>\n",
              "      <td>...</td>\n",
              "      <td>...</td>\n",
              "      <td>...</td>\n",
              "      <td>...</td>\n",
              "      <td>...</td>\n",
              "      <td>...</td>\n",
              "    </tr>\n",
              "    <tr>\n",
              "      <th>1455</th>\n",
              "      <td>1456</td>\n",
              "      <td>7917</td>\n",
              "      <td>6</td>\n",
              "      <td>0</td>\n",
              "      <td>953</td>\n",
              "      <td>1647</td>\n",
              "      <td>2</td>\n",
              "      <td>2007</td>\n",
              "      <td>175000</td>\n",
              "    </tr>\n",
              "    <tr>\n",
              "      <th>1456</th>\n",
              "      <td>1457</td>\n",
              "      <td>13175</td>\n",
              "      <td>6</td>\n",
              "      <td>790</td>\n",
              "      <td>1542</td>\n",
              "      <td>2073</td>\n",
              "      <td>2</td>\n",
              "      <td>2010</td>\n",
              "      <td>210000</td>\n",
              "    </tr>\n",
              "    <tr>\n",
              "      <th>1457</th>\n",
              "      <td>1458</td>\n",
              "      <td>9042</td>\n",
              "      <td>7</td>\n",
              "      <td>275</td>\n",
              "      <td>1152</td>\n",
              "      <td>2340</td>\n",
              "      <td>1</td>\n",
              "      <td>2010</td>\n",
              "      <td>266500</td>\n",
              "    </tr>\n",
              "    <tr>\n",
              "      <th>1458</th>\n",
              "      <td>1459</td>\n",
              "      <td>9717</td>\n",
              "      <td>5</td>\n",
              "      <td>49</td>\n",
              "      <td>1078</td>\n",
              "      <td>1078</td>\n",
              "      <td>1</td>\n",
              "      <td>2010</td>\n",
              "      <td>142125</td>\n",
              "    </tr>\n",
              "    <tr>\n",
              "      <th>1459</th>\n",
              "      <td>1460</td>\n",
              "      <td>9937</td>\n",
              "      <td>5</td>\n",
              "      <td>830</td>\n",
              "      <td>1256</td>\n",
              "      <td>1256</td>\n",
              "      <td>1</td>\n",
              "      <td>2008</td>\n",
              "      <td>147500</td>\n",
              "    </tr>\n",
              "  </tbody>\n",
              "</table>\n",
              "<p>1460 rows × 9 columns</p>\n",
              "</div>\n",
              "      <button class=\"colab-df-convert\" onclick=\"convertToInteractive('df-77e65c1b-047b-4552-8778-e605db449d85')\"\n",
              "              title=\"Convert this dataframe to an interactive table.\"\n",
              "              style=\"display:none;\">\n",
              "        \n",
              "  <svg xmlns=\"http://www.w3.org/2000/svg\" height=\"24px\"viewBox=\"0 0 24 24\"\n",
              "       width=\"24px\">\n",
              "    <path d=\"M0 0h24v24H0V0z\" fill=\"none\"/>\n",
              "    <path d=\"M18.56 5.44l.94 2.06.94-2.06 2.06-.94-2.06-.94-.94-2.06-.94 2.06-2.06.94zm-11 1L8.5 8.5l.94-2.06 2.06-.94-2.06-.94L8.5 2.5l-.94 2.06-2.06.94zm10 10l.94 2.06.94-2.06 2.06-.94-2.06-.94-.94-2.06-.94 2.06-2.06.94z\"/><path d=\"M17.41 7.96l-1.37-1.37c-.4-.4-.92-.59-1.43-.59-.52 0-1.04.2-1.43.59L10.3 9.45l-7.72 7.72c-.78.78-.78 2.05 0 2.83L4 21.41c.39.39.9.59 1.41.59.51 0 1.02-.2 1.41-.59l7.78-7.78 2.81-2.81c.8-.78.8-2.07 0-2.86zM5.41 20L4 18.59l7.72-7.72 1.47 1.35L5.41 20z\"/>\n",
              "  </svg>\n",
              "      </button>\n",
              "      \n",
              "  <style>\n",
              "    .colab-df-container {\n",
              "      display:flex;\n",
              "      flex-wrap:wrap;\n",
              "      gap: 12px;\n",
              "    }\n",
              "\n",
              "    .colab-df-convert {\n",
              "      background-color: #E8F0FE;\n",
              "      border: none;\n",
              "      border-radius: 50%;\n",
              "      cursor: pointer;\n",
              "      display: none;\n",
              "      fill: #1967D2;\n",
              "      height: 32px;\n",
              "      padding: 0 0 0 0;\n",
              "      width: 32px;\n",
              "    }\n",
              "\n",
              "    .colab-df-convert:hover {\n",
              "      background-color: #E2EBFA;\n",
              "      box-shadow: 0px 1px 2px rgba(60, 64, 67, 0.3), 0px 1px 3px 1px rgba(60, 64, 67, 0.15);\n",
              "      fill: #174EA6;\n",
              "    }\n",
              "\n",
              "    [theme=dark] .colab-df-convert {\n",
              "      background-color: #3B4455;\n",
              "      fill: #D2E3FC;\n",
              "    }\n",
              "\n",
              "    [theme=dark] .colab-df-convert:hover {\n",
              "      background-color: #434B5C;\n",
              "      box-shadow: 0px 1px 3px 1px rgba(0, 0, 0, 0.15);\n",
              "      filter: drop-shadow(0px 1px 2px rgba(0, 0, 0, 0.3));\n",
              "      fill: #FFFFFF;\n",
              "    }\n",
              "  </style>\n",
              "\n",
              "      <script>\n",
              "        const buttonEl =\n",
              "          document.querySelector('#df-77e65c1b-047b-4552-8778-e605db449d85 button.colab-df-convert');\n",
              "        buttonEl.style.display =\n",
              "          google.colab.kernel.accessAllowed ? 'block' : 'none';\n",
              "\n",
              "        async function convertToInteractive(key) {\n",
              "          const element = document.querySelector('#df-77e65c1b-047b-4552-8778-e605db449d85');\n",
              "          const dataTable =\n",
              "            await google.colab.kernel.invokeFunction('convertToInteractive',\n",
              "                                                     [key], {});\n",
              "          if (!dataTable) return;\n",
              "\n",
              "          const docLinkHtml = 'Like what you see? Visit the ' +\n",
              "            '<a target=\"_blank\" href=https://colab.research.google.com/notebooks/data_table.ipynb>data table notebook</a>'\n",
              "            + ' to learn more about interactive tables.';\n",
              "          element.innerHTML = '';\n",
              "          dataTable['output_type'] = 'display_data';\n",
              "          await google.colab.output.renderOutput(dataTable, element);\n",
              "          const docLink = document.createElement('div');\n",
              "          docLink.innerHTML = docLinkHtml;\n",
              "          element.appendChild(docLink);\n",
              "        }\n",
              "      </script>\n",
              "    </div>\n",
              "  </div>\n",
              "  "
            ],
            "text/plain": [
              "        Id  LotArea  OverallQual  BsmtFinSF1  TotalBsmtSF  GrLivArea  \\\n",
              "0        1     8450            7         706          856       1710   \n",
              "1        2     9600            6         978         1262       1262   \n",
              "2        3    11250            7         486          920       1786   \n",
              "3        4     9550            7         216          756       1717   \n",
              "4        5    14260            8         655         1145       2198   \n",
              "...    ...      ...          ...         ...          ...        ...   \n",
              "1455  1456     7917            6           0          953       1647   \n",
              "1456  1457    13175            6         790         1542       2073   \n",
              "1457  1458     9042            7         275         1152       2340   \n",
              "1458  1459     9717            5          49         1078       1078   \n",
              "1459  1460     9937            5         830         1256       1256   \n",
              "\n",
              "      GarageCars  YrSold  SalePrice  \n",
              "0              2    2008     208500  \n",
              "1              2    2007     181500  \n",
              "2              2    2008     223500  \n",
              "3              3    2006     140000  \n",
              "4              3    2008     250000  \n",
              "...          ...     ...        ...  \n",
              "1455           2    2007     175000  \n",
              "1456           2    2010     210000  \n",
              "1457           1    2010     266500  \n",
              "1458           1    2010     142125  \n",
              "1459           1    2008     147500  \n",
              "\n",
              "[1460 rows x 9 columns]"
            ]
          },
          "metadata": {},
          "execution_count": 21
        }
      ],
      "source": [
        "# You code to answer the three questions (Please add comments in the code):\n",
        "\n",
        "\n",
        "import pandas as pd\n",
        "import matplotlib.pyplot as plt \n",
        "import numpy as np\n",
        "import io\n",
        "from google.colab import files\n",
        "uploaded=files.upload()\n",
        "df=pd.read_excel(io.BytesIO(uploaded['data.xlsx']))\n",
        "df\n",
        "\n",
        "\n",
        "\n"
      ]
    },
    {
      "cell_type": "code",
      "source": [
        "df.isnull().sum()"
      ],
      "metadata": {
        "colab": {
          "base_uri": "https://localhost:8080/"
        },
        "id": "9ZFTCg-AhxS1",
        "outputId": "9a87a1d3-c66b-43eb-e992-0dad3926201f"
      },
      "execution_count": null,
      "outputs": [
        {
          "output_type": "execute_result",
          "data": {
            "text/plain": [
              "Id             0\n",
              "LotArea        0\n",
              "OverallQual    0\n",
              "BsmtFinSF1     0\n",
              "TotalBsmtSF    0\n",
              "GrLivArea      0\n",
              "GarageCars     0\n",
              "YrSold         0\n",
              "SalePrice      0\n",
              "dtype: int64"
            ]
          },
          "metadata": {},
          "execution_count": 11
        }
      ]
    },
    {
      "cell_type": "code",
      "source": [
        "df['SalePrice'].plot(\n",
        "    kind='hist'\n",
        ")\n",
        "plt.xlabel('SalePrice')"
      ],
      "metadata": {
        "colab": {
          "base_uri": "https://localhost:8080/",
          "height": 297
        },
        "id": "Nw7ljpQrh9_Z",
        "outputId": "2e5d3a88-acf1-466a-89a9-df686e7e5306"
      },
      "execution_count": null,
      "outputs": [
        {
          "output_type": "execute_result",
          "data": {
            "text/plain": [
              "Text(0.5, 0, 'SalePrice')"
            ]
          },
          "metadata": {},
          "execution_count": 12
        },
        {
          "output_type": "display_data",
          "data": {
            "image/png": "[encoded data removed]",
            "text/plain": [
              "<Figure size 432x288 with 1 Axes>"
            ]
          },
          "metadata": {
            "needs_background": "light"
          }
        }
      ]
    },
    {
      "cell_type": "markdown",
      "source": [
        "# The didtribution of salePrice is right skewed."
      ],
      "metadata": {
        "id": "0EcE8h--iZIj"
      }
    },
    {
      "cell_type": "code",
      "source": [
        "df['SalePrice'].plot(\n",
        "    kind='box'\n",
        ")\n",
        "plt.xlabel('')\n",
        "plt.title('Boxplot of Sale Price')"
      ],
      "metadata": {
        "colab": {
          "base_uri": "https://localhost:8080/",
          "height": 299
        },
        "id": "HkaMrYDpiw3o",
        "outputId": "b6dfa455-1b1c-4926-d0f8-5d6c9f8dac99"
      },
      "execution_count": null,
      "outputs": [
        {
          "output_type": "execute_result",
          "data": {
            "text/plain": [
              "Text(0.5, 1.0, 'Boxplot of Sale Price')"
            ]
          },
          "metadata": {},
          "execution_count": 13
        },
        {
          "output_type": "display_data",
          "data": {
            "image/png": "[encoded data removed]",
            "text/plain": [
              "<Figure size 432x288 with 1 Axes>"
            ]
          },
          "metadata": {
            "needs_background": "light"
          }
        }
      ]
    },
    {
      "cell_type": "markdown",
      "source": [
        "The median value is around 150, 000."
      ],
      "metadata": {
        "id": "QQ9SMC05lObC"
      }
    },
    {
      "cell_type": "code",
      "source": [
        "import seaborn as sns \n",
        "import statsmodels.api as sm\n",
        "import statsmodels.formula.api as smf\n"
      ],
      "metadata": {
        "colab": {
          "base_uri": "https://localhost:8080/"
        },
        "id": "4737sXVgmwJL",
        "outputId": "fd764498-9ecf-4514-9a51-4159519230e0"
      },
      "execution_count": null,
      "outputs": [
        {
          "output_type": "stream",
          "name": "stderr",
          "text": [
            "/usr/local/lib/python3.7/dist-packages/statsmodels/tools/_testing.py:19: FutureWarning: pandas.util.testing is deprecated. Use the functions in the public API at pandas.testing instead.\n",
            "  import pandas.util.testing as tm\n"
          ]
        }
      ]
    },
    {
      "cell_type": "code",
      "source": [
        "plt.figure(figsize =(20,12))\n",
        "plt.figure(figsize = (20,12))\n",
        "sns.heatmap(df.corr(), annot=True)\n",
        "plt.show()"
      ],
      "metadata": {
        "colab": {
          "base_uri": "https://localhost:8080/",
          "height": 742
        },
        "id": "kin4OJK-ljpL",
        "outputId": "1b76ccf0-df6b-4b6c-c131-d9b64b044695"
      },
      "execution_count": null,
      "outputs": [
        {
          "output_type": "display_data",
          "data": {
            "text/plain": [
              "<Figure size 1440x864 with 0 Axes>"
            ]
          },
          "metadata": {}
        },
        {
          "output_type": "display_data",
          "data": {
            "image/png": "[encoded data removed]",
            "text/plain": [
              "<Figure size 1440x864 with 2 Axes>"
            ]
          },
          "metadata": {
            "needs_background": "light"
          }
        }
      ]
    },
    {
      "cell_type": "markdown",
      "source": [
        "The SalePrice has a positive relationship with all the building characterics except the year sold. Among them, the relationship between the SalePrice and the overall quality is high(0.79) as well as Garrage Area (0.71). "
      ],
      "metadata": {
        "id": "Dtb_YE5fou5Z"
      }
    }
  ],
  "metadata": {
    "kernelspec": {
      "display_name": "Python 3",
      "language": "python",
      "name": "python3"
    },
    "language_info": {
      "codemirror_mode": {
        "name": "ipython",
        "version": 3
      },
      "file_extension": ".py",
      "mimetype": "text/x-python",
      "name": "python",
      "nbconvert_exporter": "python",
      "pygments_lexer": "ipython3",
      "version": "3.8.5"
    },
    "colab": {
      "name": "lab_assignment_04.ipynb",
      "provenance": [],
      "collapsed_sections": []
    }
  },
  "nbformat": 4,
  "nbformat_minor": 0
}