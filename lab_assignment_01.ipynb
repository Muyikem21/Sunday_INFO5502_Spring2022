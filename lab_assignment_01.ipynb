{
  "cells": [
    {
      "cell_type": "markdown",
      "metadata": {
        "id": "view-in-github",
        "colab_type": "text"
      },
      "source": [
        "<a href=\"https://colab.research.google.com/github/Muyikem21/Sunday_INFO5502_Spring2022/blob/main/lab_assignment_01.ipynb\" target=\"_parent\"><img src=\"https://colab.research.google.com/assets/colab-badge.svg\" alt=\"Open In Colab\"/></a>"
      ]
    },
    {
      "cell_type": "markdown",
      "metadata": {
        "id": "DymRJbxDBCnf"
      },
      "source": [
        "# **The first Lab-assignment (01/25/2022, 50 points in total)**"
      ]
    },
    {
      "cell_type": "markdown",
      "metadata": {
        "id": "jJDe71iLB616"
      },
      "source": [
        "(1) Write a Python program to count the number of characters in a string. (5 points)\n",
        "\n",
        "Sample String : 'google.com', \n",
        "\n",
        "Expected Result : {'o': 3, 'g': 2, '.': 1, 'e': 1, 'l': 1, 'm': 1, 'c': 1}"
      ]
    },
    {
      "cell_type": "code",
      "source": [
        "z='google.com'\n",
        "c={}\n",
        "for i in z:\n",
        "  if i in c:\n",
        "    c[i]=c[i]+1\n",
        "  else:\n",
        "    c[i]=1\n",
        "print(c)\n"
      ],
      "metadata": {
        "colab": {
          "base_uri": "https://localhost:8080/"
        },
        "id": "8ZXSRq66M6KT",
        "outputId": "3d72aaf0-76eb-4f8f-c4e2-a3e4fa5dc632"
      },
      "execution_count": 25,
      "outputs": [
        {
          "output_type": "stream",
          "name": "stdout",
          "text": [
            "{'g': 2, 'o': 3, 'l': 1, 'e': 1, '.': 1, 'c': 1, 'm': 1}\n"
          ]
        }
      ]
    },
    {
      "cell_type": "markdown",
      "metadata": {
        "id": "55W9AMdXCSpV"
      },
      "source": [
        "(2) Write a Python program to sum all the items in a list. (5 points)"
      ]
    },
    {
      "cell_type": "code",
      "execution_count": 28,
      "metadata": {
        "id": "I57NXsauCec2",
        "colab": {
          "base_uri": "https://localhost:8080/"
        },
        "outputId": "81386c1a-1954-4721-fa68-8f6ae327c1f7"
      },
      "outputs": [
        {
          "output_type": "stream",
          "name": "stdout",
          "text": [
            "55\n"
          ]
        }
      ],
      "source": [
        "mylist=[1,2,3,4,5,6,7,8,9,10]\n",
        "total=0\n",
        "for i in range(0,len(mylist)):\n",
        "  total=total+mylist[i]\n",
        "print(total)\n",
        "\n",
        "\n"
      ]
    },
    {
      "cell_type": "markdown",
      "metadata": {
        "id": "4ulBZ6yhCi9F"
      },
      "source": [
        "(3) Write a Python program to get a string from a given string where all occurrences of its first char have been changed to '\\$', except the first char itself. (5 points)\n",
        "\n",
        "Sample String : 'restart', \n",
        "\n",
        "Expected Result : 'resta\\$t'"
      ]
    },
    {
      "cell_type": "code",
      "execution_count": 30,
      "metadata": {
        "id": "Fj0XhwbBCw2o",
        "colab": {
          "base_uri": "https://localhost:8080/"
        },
        "outputId": "71b28599-718f-41d3-c6f4-b684e80ed4cc"
      },
      "outputs": [
        {
          "output_type": "stream",
          "name": "stdout",
          "text": [
            "resta$t\n"
          ]
        }
      ],
      "source": [
        "def string_replace(string):\n",
        "  first_char=string[0]\n",
        "  modified_string=string[1:].replace(first_char, '$')\n",
        "  return first_char+modified_string\n",
        "print(string_replace('restart'))\n"
      ]
    },
    {
      "cell_type": "markdown",
      "metadata": {
        "id": "_bIP7s1MCzue"
      },
      "source": [
        "(4) Write a program with python which could accept two parameter a and b to calculate and output the result of S, where \n",
        "\n",
        "$\\ S=3.14*(1+a/b)^3$ (5 points)\n",
        "\n"
      ]
    },
    {
      "cell_type": "code",
      "execution_count": 32,
      "metadata": {
        "id": "w79QilHXD3Mg",
        "colab": {
          "base_uri": "https://localhost:8080/"
        },
        "outputId": "3080fb05-3208-4b4d-a9e1-bf738e7b1c99"
      },
      "outputs": [
        {
          "output_type": "stream",
          "name": "stdout",
          "text": [
            "2,3\n",
            "14.537037037037033\n"
          ]
        }
      ],
      "source": [
        "a,b=map(int,input().split(\",\"))\n",
        "S=3.14*(1+a/b)**3\n",
        "print(S)\n",
        "\n"
      ]
    },
    {
      "cell_type": "markdown",
      "metadata": {
        "id": "xCa2bK9aD4Q3"
      },
      "source": [
        "(5) Write a Python program to concatenate following dictionaries to create a new one. (5 points)\n",
        "\n",
        "Sample Dictionary : dic1={1:10, 2:20}, dic2={3:30, 4:40}, dic3={5:50,6:60}, \n",
        "\n",
        "Expected Result : {1: 10, 2: 20, 3: 30, 4: 40, 5: 50, 6: 60}\n"
      ]
    },
    {
      "cell_type": "code",
      "execution_count": 33,
      "metadata": {
        "id": "_z4aLqAbEET1",
        "colab": {
          "base_uri": "https://localhost:8080/"
        },
        "outputId": "e38b9d18-1c64-4e14-f0f4-144f9cbc0079"
      },
      "outputs": [
        {
          "output_type": "stream",
          "name": "stdout",
          "text": [
            "{1: 10, 2: 20, 3: 30, 4: 40, 5: 50, 6: 60}\n"
          ]
        }
      ],
      "source": [
        "dic1={1:10, 2:20}\n",
        "dic2={3:30, 4:40}\n",
        "dic3={5:50,6:60}\n",
        "merged_dic={**dic1,**dic2,**dic3}\n",
        "print(merged_dic)\n"
      ]
    },
    {
      "cell_type": "markdown",
      "metadata": {
        "id": "0v48Vqa7FrQh"
      },
      "source": [
        "(6) Write a Python program to check whether an element exists within a tuple. (5 points)"
      ]
    },
    {
      "cell_type": "code",
      "execution_count": 35,
      "metadata": {
        "id": "7WEmgq-DF2P1",
        "colab": {
          "base_uri": "https://localhost:8080/"
        },
        "outputId": "393b4b41-2300-469e-e578-4e8749d4d90c"
      },
      "outputs": [
        {
          "output_type": "stream",
          "name": "stdout",
          "text": [
            "The tuple is: (2, 4, 6, 8, 10, 12)\n",
            "14 exists in t False\n",
            "10 exists in t True\n"
          ]
        }
      ],
      "source": [
        "t=(2,4,6,8,10,12)\n",
        "print('The tuple is:', t)\n",
        "print('14 exists in t', (14 in t))\n",
        "print('10 exists in t', (10 in t))\n"
      ]
    },
    {
      "cell_type": "markdown",
      "metadata": {
        "id": "vD5PYLMuGga_"
      },
      "source": [
        "(7) Write a Python program to find maximum and the minimum value in a set. (5 points)"
      ]
    },
    {
      "cell_type": "code",
      "execution_count": 38,
      "metadata": {
        "id": "t0D5kdJUGjjw",
        "colab": {
          "base_uri": "https://localhost:8080/"
        },
        "outputId": "33b66c5f-87a9-42e5-92d9-f787e8d15758"
      },
      "outputs": [
        {
          "output_type": "stream",
          "name": "stdout",
          "text": [
            "56\n",
            "2\n"
          ]
        }
      ],
      "source": [
        "myset={2,5,7,10,25,56}\n",
        "print(max(myset))\n",
        "print(min(myset))\n"
      ]
    },
    {
      "cell_type": "markdown",
      "metadata": {
        "id": "uHkd-y5VhVWC"
      },
      "source": [
        "(8) Write a Python program to randomly divide the students in this class into six groups for term projects, each group should have at least 4 students but no more than 6 students (including 6). Here is the students list: (5 points)\n",
        "\n",
        "studnet_list = ['ja0964','sa1198','sb1357','vb0218','sc1229','kg0569','kg0470','sg1297','bg0320','fh0141','jl1252','sk1386',\n",
        "           'ak0956','sk1390','sk1458','sk1313','ak0934','vm0377','nm0618','sm1640','sm1907','gn0108','pr0353','dr0609','ms1500','aos0040','ds0814', 'av0659','nv0234','hy0232']"
      ]
    },
    {
      "cell_type": "code",
      "execution_count": 55,
      "metadata": {
        "id": "3iGbmcOBhTwy",
        "colab": {
          "base_uri": "https://localhost:8080/"
        },
        "outputId": "9f91e2fb-ca1d-420a-8a05-48d3654601b9"
      },
      "outputs": [
        {
          "output_type": "stream",
          "name": "stdout",
          "text": [
            "Initial list is:\n",
            " ['ja0964', 'sa1198', 'sb1357', 'vb0218', 'sc1229', 'kg0569', 'kg0470', 'sg1297', 'bg0320', 'fh0141', 'jl1252', 'sk1386', 'ak0956', 'sk1390', 'sk1458', 'sk1313', 'ak0934', 'vm0377', 'nm0618', 'sm1640', 'sm1907', 'gn0108', 'pr0353', 'dr0609', 'ms1500', 'aos0040', 'ds0814', 'av0659', 'nv0234', 'hy0232']\n",
            "\n",
            "Split length list: \n",
            " [4, 6, 6, 4, 6, 5]\n",
            "\n",
            "List after splitting\n",
            " [['ja0964', 'sa1198', 'sb1357', 'vb0218'], ['sc1229', 'kg0569', 'kg0470', 'sg1297', 'bg0320', 'fh0141'], ['jl1252', 'sk1386', 'ak0956', 'sk1390', 'sk1458', 'sk1313'], ['ak0934', 'vm0377', 'nm0618', 'sm1640'], ['sm1907', 'gn0108', 'pr0353', 'dr0609', 'ms1500', 'aos0040'], ['ds0814', 'av0659', 'nv0234', 'hy0232']]\n"
          ]
        }
      ],
      "source": [
        "import random\n",
        "from itertools import islice\n",
        "student_list = ['ja0964','sa1198','sb1357','vb0218','sc1229','kg0569','kg0470','sg1297','bg0320','fh0141','jl1252','sk1386', 'ak0956','sk1390','sk1458','sk1313','ak0934','vm0377','nm0618','sm1640','sm1907','gn0108','pr0353','dr0609','ms1500','aos0040',\n",
        "                'ds0814', 'av0659','nv0234','hy0232']\n",
        "length_to_split = []\n",
        "for i in range(6):\n",
        "              length_to_split.append(random.randint(4,6))\n",
        "if sum(length_to_split)!=len(student_list):\n",
        "              if length_to_split[i]==4 or length_to_split[i]==6:\n",
        "                length_to_split[i] = length_to_split[i] + 1\n",
        "else:\n",
        "  Input = iter(student_list)\n",
        "Output = [list(islice(Input, elem)) for elem in length_to_split]\n",
        "  \n",
        "print(\"Initial list is:\\n\", student_list )\n",
        "print(\"\\nSplit length list: \\n\", length_to_split)\n",
        "print(\"\\nList after splitting\\n\", Output)\n",
        "\n",
        "\n",
        "\n"
      ]
    },
    {
      "cell_type": "markdown",
      "metadata": {
        "id": "gf5z7qM4_O59"
      },
      "source": [
        "(9) Write a Python program to find the duplicate elements in a given array of integers. Return -1 If there are no such elements. (5 points)"
      ]
    },
    {
      "cell_type": "code",
      "execution_count": 52,
      "metadata": {
        "id": "QtFewMHz_O5-",
        "colab": {
          "base_uri": "https://localhost:8080/"
        },
        "outputId": "c78abb53-6a09-4e4e-8f55-370239a78418"
      },
      "outputs": [
        {
          "output_type": "stream",
          "name": "stdout",
          "text": [
            "[1, 2, 5]\n",
            "-1\n"
          ]
        }
      ],
      "source": [
        "def Duplicates(array):\n",
        "    result = []\n",
        "    for x in array:\n",
        "        if (array.count(x)>1) and (x not in result):\n",
        "            result.append(x)\n",
        "    if len(result)==0:\n",
        "        return -1\n",
        "    else:\n",
        "        return result\n",
        "\n",
        "\n",
        "# Testing\n",
        "print(Duplicates([1,2,1,5,2,5,3,7]))\n",
        "print(Duplicates([1,2,3,5,7]))\n",
        "\n"
      ]
    },
    {
      "cell_type": "markdown",
      "metadata": {
        "id": "RfhPQ1L1_O5-"
      },
      "source": [
        "(10) Write a Python program to select all the Sundays of a specified year. (5 extra points)"
      ]
    },
    {
      "cell_type": "code",
      "execution_count": 54,
      "metadata": {
        "id": "B8zAm9tY_O5_",
        "colab": {
          "base_uri": "https://localhost:8080/"
        },
        "outputId": "fd9270b1-2a5b-428b-f078-1ffa1b080af1"
      },
      "outputs": [
        {
          "output_type": "stream",
          "name": "stdout",
          "text": [
            "Enter year: 2022\n",
            "2022-01-02\n",
            "2022-01-09\n",
            "2022-01-16\n",
            "2022-01-23\n",
            "2022-01-30\n",
            "2022-02-06\n",
            "2022-02-13\n",
            "2022-02-20\n",
            "2022-02-27\n",
            "2022-03-06\n",
            "2022-03-13\n",
            "2022-03-20\n",
            "2022-03-27\n",
            "2022-04-03\n",
            "2022-04-10\n",
            "2022-04-17\n",
            "2022-04-24\n",
            "2022-05-01\n",
            "2022-05-08\n",
            "2022-05-15\n",
            "2022-05-22\n",
            "2022-05-29\n",
            "2022-06-05\n",
            "2022-06-12\n",
            "2022-06-19\n",
            "2022-06-26\n",
            "2022-07-03\n",
            "2022-07-10\n",
            "2022-07-17\n",
            "2022-07-24\n",
            "2022-07-31\n",
            "2022-08-07\n",
            "2022-08-14\n",
            "2022-08-21\n",
            "2022-08-28\n",
            "2022-09-04\n",
            "2022-09-11\n",
            "2022-09-18\n",
            "2022-09-25\n",
            "2022-10-02\n",
            "2022-10-09\n",
            "2022-10-16\n",
            "2022-10-23\n",
            "2022-10-30\n",
            "2022-11-06\n",
            "2022-11-13\n",
            "2022-11-20\n",
            "2022-11-27\n",
            "2022-12-04\n",
            "2022-12-11\n",
            "2022-12-18\n",
            "2022-12-25\n"
          ]
        }
      ],
      "source": [
        "from datetime import date, timedelta\n",
        "def sundays(year):\n",
        "# January 1st of the given year\n",
        "       dt = date(year, 1, 1)\n",
        "# First Sunday of the given year       \n",
        "       dt += timedelta(days = 6 - dt.weekday())  \n",
        "       while dt.year == year:\n",
        "          yield dt\n",
        "          dt += timedelta(days = 7)\n",
        "#get year from user \n",
        "year=(int(input(\"Enter year: \")));\n",
        "for s in sundays(year):\n",
        "   print(s)\n",
        "\n"
      ]
    }
  ],
  "metadata": {
    "colab": {
      "collapsed_sections": [],
      "name": "lab_assignment_01.ipynb",
      "provenance": [],
      "include_colab_link": true
    },
    "kernelspec": {
      "display_name": "Python 3",
      "language": "python",
      "name": "python3"
    },
    "language_info": {
      "codemirror_mode": {
        "name": "ipython",
        "version": 3
      },
      "file_extension": ".py",
      "mimetype": "text/x-python",
      "name": "python",
      "nbconvert_exporter": "python",
      "pygments_lexer": "ipython3",
      "version": "3.8.5"
    }
  },
  "nbformat": 4,
  "nbformat_minor": 0
}