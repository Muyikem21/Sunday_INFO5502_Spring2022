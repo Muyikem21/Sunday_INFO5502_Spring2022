{
  "cells": [
    {
      "cell_type": "markdown",
      "metadata": {
        "id": "view-in-github",
        "colab_type": "text"
      },
      "source": [
        "<a href=\"https://colab.research.google.com/github/Muyikem21/Sunday_INFO5502_Spring2022/blob/main/lab_assignment_02.ipynb\" target=\"_parent\"><img src=\"https://colab.research.google.com/assets/colab-badge.svg\" alt=\"Open In Colab\"/></a>"
      ]
    },
    {
      "cell_type": "markdown",
      "metadata": {
        "id": "Ryk8D1Q4Wsrp"
      },
      "source": [
        "# **The second Lab-assignment (02/04/2022, 50 points in total)**"
      ]
    },
    {
      "cell_type": "markdown",
      "metadata": {
        "id": "90_NR8c5XGWc"
      },
      "source": [
        "# Question 1\n",
        "\n",
        "(5 points). Write a Python program to generate 12 random numbers between 1 and 100. Sort the list of numbers in ascending order and print it out. Sort the list of numbers in descending order and print it out. Calculate the average for the group and print it out."
      ]
    },
    {
      "cell_type": "code",
      "execution_count": 7,
      "metadata": {
        "colab": {
          "base_uri": "https://localhost:8080/"
        },
        "id": "5QX6bJjGWXY9",
        "outputId": "60bc5b4e-e3b5-4bae-8a3a-c9fc44857f5a"
      },
      "outputs": [
        {
          "output_type": "stream",
          "name": "stdout",
          "text": [
            "[23, 27, 39, 44, 65, 70, 75, 76, 84, 91, 93, 95]\n",
            "[95, 93, 91, 84, 76, 75, 70, 65, 44, 39, 27, 23]\n",
            "average: 65.16666666666667\n"
          ]
        }
      ],
      "source": [
        "import random\n",
        "random_list=[]\n",
        "for i in range(0,12):\n",
        "    k=random.randint(1,100)\n",
        "    random_list.append(k)\n",
        "ascending_list=sorted(random_list)\n",
        "print(ascending_list)\n",
        "descending_list=ascending_list[::-1]\n",
        "print(descending_list)\n",
        "k=0\n",
        "for i in random_list:\n",
        "    k=k+i \n",
        "average=k/12\n",
        "print(\"average:\",average)\n",
        "\n"
      ]
    },
    {
      "cell_type": "markdown",
      "metadata": {
        "id": "1F_PZdH9Sh49"
      },
      "source": [
        "# Question 2\n",
        "(20 points). Write a program that will do the following string formatting tasks:\n",
        "\n",
        "(1) Ask the user to enter two sentences.\n",
        "\n",
        "(2) Make each sentence into a list. Each element in the list should correspond to a word in the sentence. For example, if the sentence is \"Alas! Am I alive? This is my first python program\", the program should print out ['Alas, '!', 'Am', 'I', 'alive, '?', 'This', 'is', 'my', 'first', 'python', 'program'].\n",
        "\n",
        "(3) Compare the two sentences. Print out a list of words that occur in both sentences.\n",
        "\n",
        "(4) Remove any punctuation from the sentence and print it back out. It should remove at least the following characters, but it can remove more: period(“.”), comma (“,”), semicolon (“;”), and colon (“:”)\n",
        "\n",
        "(5) Count the number of vowels in the sentences. Print out each vowel and the number of times it appears in the sentences, such as: a:2, e:1, i:0, etc"
      ]
    },
    {
      "cell_type": "code",
      "execution_count": 10,
      "metadata": {
        "colab": {
          "base_uri": "https://localhost:8080/"
        },
        "id": "Y0oOSlsOS0cq",
        "outputId": "aa0cb9a8-3692-4113-8512-97291828b380"
      },
      "outputs": [
        {
          "output_type": "stream",
          "name": "stdout",
          "text": [
            "Enter first string: The strength of the Lord is my joy\n",
            "Enter second string: I am glad Jesus loves me\n",
            "First list: ['The', 'strength', 'of', 'the', 'Lord', 'is', 'my', 'joy']\n",
            "Second list: ['I', 'am', 'glad', 'Jesus', 'loves', 'me']\n",
            "\n",
            "Following are common\n",
            "\n",
            "Following are common without punctuation\n",
            "\n",
            "Vowel frequency  {'a': 0, 'e': 3, 'i': 1, 'o': 3, 'u': 0}\n"
          ]
        }
      ],
      "source": [
        "import string\n",
        "import re\n",
        "\n",
        "one = input(\"Enter first string: \")\n",
        "two = input(\"Enter second string: \")\n",
        "\n",
        "a = re.findall(r\"[\\w']+|[.,!?;:]\", one)\n",
        "b = re.findall(r\"[\\w']+|[.,!?;:]\", two)\n",
        "\n",
        "print(\"First list:\",a)\n",
        "print(\"Second list:\",b)\n",
        "\n",
        "print(\"\\nFollowing are common\")\n",
        "for word in a:\n",
        "    for other in b:\n",
        "     if word.lower() == other.lower():\n",
        "      print(word)\n",
        "  \n",
        "print(\"\\nFollowing are common without punctuation\")\n",
        "for word in a:\n",
        "  for other in b:\n",
        "   if word.lower() == other.lower() and word not in string.punctuation:\n",
        "    print(word)\n",
        "  \n",
        "vowels = {'a':0, 'e':0, 'i':0, 'o':0, 'u':0}\n",
        "for letter in one:\n",
        "  if letter.lower() in vowels:\n",
        "   vowels[letter.lower()] += 1\n",
        "\n",
        "print(\"\\nVowel frequency \",vowels)\n",
        "\n"
      ]
    },
    {
      "cell_type": "markdown",
      "metadata": {
        "id": "CmFoI4jDS9nx"
      },
      "source": [
        "# Question 3 \n",
        "\n",
        "(5 points). The formula that describes the volume V of a sphere with radius r is the following:\n",
        "\n",
        "$ V=\\frac{4}{3}\\ast\\ \\pi\\ast\\ r^3 $\n",
        "\n",
        "Write a program to calculate the value of V when r is in the range of 1–10. Output the result in the following format:\n",
        "\n",
        "\tr\tV\n",
        "\t1\t…\n",
        "\t2\t…\n",
        "\t3\t…\n"
      ]
    },
    {
      "cell_type": "code",
      "execution_count": 9,
      "metadata": {
        "colab": {
          "base_uri": "https://localhost:8080/"
        },
        "id": "pEyqeioAT95b",
        "outputId": "d4ad73b8-b34e-4d3c-88e1-551db8d9fe4a"
      },
      "outputs": [
        {
          "output_type": "stream",
          "name": "stdout",
          "text": [
            "r\t v\n",
            "1 \t 4.1887902047863905 \n",
            "2 \t 33.510321638291124 \n",
            "3 \t 113.09733552923254 \n",
            "4 \t 268.082573106329 \n",
            "5 \t 523.5987755982989 \n",
            "6 \t 904.7786842338603 \n",
            "7 \t 1436.7550402417319 \n",
            "8 \t 2144.660584850632 \n",
            "9 \t 3053.6280592892786 \n"
          ]
        }
      ],
      "source": [
        "import math\n",
        "print(\"r\\t v\")\n",
        "for x in range(1,10):\n",
        "    v=4/3*math.pi*math.pow(x, 3)\n",
        "    print(x,\"\\t\", v, \"\\n\", end='',)\n",
        "\n"
      ]
    },
    {
      "cell_type": "markdown",
      "metadata": {
        "id": "z3tBE7E-Xn5X"
      },
      "source": [
        "# Question 4\n",
        "\n",
        "(20 points). In the field of Data Science, data is often formatted as a comma-delimited (CSV) file, where each line in a file corresponds to a field's value. Refer to Chapter 9 (p. 106) for more information on comma-delimited files. To answer this question, you will need to download the file [lab_assignment_02_denton_housing.csv](https://raw.githubusercontent.com/unt-iialab/info5502-spring2022/main/datasets/lab_assignment_02_denton_housing.csv) included with this assignment. The file [lab_assignment_02_denton_housing.csv](https://raw.githubusercontent.com/unt-iialab/info5502-spring2022/main/datasets/lab_assignment_02_denton_housing.csv) contains statistics about housing in the city of Denton from 2008 to 2014. Write a program to implement the following questions.\n",
        "\n",
        "(1) (10 pts) Calculate the difference in the number of Occupied Housing Units from year to year and print it. The difference must be calculated for the consecutive years such as 2008-2009, 2009-2010 etc. Finally, print the values in the ascending order.\n",
        "\n",
        "(2) (10 pts) For all the years, calculate the percentage of housing units which are vacant an occupied. Print the results in the following format:\n",
        "\n",
        "Year Vacant Housing Units Occupied Housing Units\n",
        "\n",
        "    2008  30%   70%                          \n",
        "\t2009 ----- -----\n",
        "\t2010 ----- -----\n",
        "    2011 ----- -----\n",
        "\t2012 ----- -----\n",
        "    2013 ----- -----\n",
        "\t2014 ----- -----\n",
        "  \n",
        "  \n",
        "\n",
        "(3) (10 pts) Calculate and print the valued and years in which the highest number of housing units were vacant and occupied. Print the results in the following format:  \n",
        "\n",
        "                              Year\tValue\n",
        "\tVacant Housing Units\t  -----   -----\n",
        "\tOccupied Housing Units\t-----   -----\n",
        "\n",
        "(4) (10 pts) Calculate the harmonic mean of the total housing units and print it out. You can find the information about harmonic mean here: https://ncalculators.com/statistics/harmonic-mean-calculator.htm"
      ]
    },
    {
      "cell_type": "code",
      "execution_count": 13,
      "metadata": {
        "colab": {
          "base_uri": "https://localhost:8080/",
          "height": 348
        },
        "id": "lqGYuHBhcsRH",
        "outputId": "1e3c200a-e388-442e-ab2b-b7d340bd482e"
      },
      "outputs": [
        {
          "output_type": "stream",
          "name": "stdout",
          "text": [
            "Shape:  (42, 3)\n"
          ]
        },
        {
          "output_type": "execute_result",
          "data": {
            "text/html": [
              "\n",
              "  <div id=\"df-4cae16b9-fc81-48aa-85e1-6cc4cd4a5b38\">\n",
              "    <div class=\"colab-df-container\">\n",
              "      <div>\n",
              "<style scoped>\n",
              "    .dataframe tbody tr th:only-of-type {\n",
              "        vertical-align: middle;\n",
              "    }\n",
              "\n",
              "    .dataframe tbody tr th {\n",
              "        vertical-align: top;\n",
              "    }\n",
              "\n",
              "    .dataframe thead th {\n",
              "        text-align: right;\n",
              "    }\n",
              "</style>\n",
              "<table border=\"1\" class=\"dataframe\">\n",
              "  <thead>\n",
              "    <tr style=\"text-align: right;\">\n",
              "      <th></th>\n",
              "      <th>year</th>\n",
              "      <th>Vacant House</th>\n",
              "      <th>Occupied House</th>\n",
              "      <th>Percent of Vacant House</th>\n",
              "      <th>Percent of Occupied House</th>\n",
              "    </tr>\n",
              "  </thead>\n",
              "  <tbody>\n",
              "    <tr>\n",
              "      <th>0</th>\n",
              "      <td>2008</td>\n",
              "      <td>4483</td>\n",
              "      <td>36711</td>\n",
              "      <td>10.882653</td>\n",
              "      <td>89.117347</td>\n",
              "    </tr>\n",
              "    <tr>\n",
              "      <th>1</th>\n",
              "      <td>2009</td>\n",
              "      <td>3583</td>\n",
              "      <td>35916</td>\n",
              "      <td>9.071116</td>\n",
              "      <td>90.928884</td>\n",
              "    </tr>\n",
              "    <tr>\n",
              "      <th>2</th>\n",
              "      <td>2010</td>\n",
              "      <td>3635</td>\n",
              "      <td>41007</td>\n",
              "      <td>8.142556</td>\n",
              "      <td>91.857444</td>\n",
              "    </tr>\n",
              "    <tr>\n",
              "      <th>3</th>\n",
              "      <td>2011</td>\n",
              "      <td>4213</td>\n",
              "      <td>40704</td>\n",
              "      <td>9.379522</td>\n",
              "      <td>90.620478</td>\n",
              "    </tr>\n",
              "    <tr>\n",
              "      <th>4</th>\n",
              "      <td>2012</td>\n",
              "      <td>3013</td>\n",
              "      <td>42108</td>\n",
              "      <td>6.677600</td>\n",
              "      <td>93.322400</td>\n",
              "    </tr>\n",
              "    <tr>\n",
              "      <th>5</th>\n",
              "      <td>2013</td>\n",
              "      <td>4215</td>\n",
              "      <td>43673</td>\n",
              "      <td>8.801788</td>\n",
              "      <td>91.198212</td>\n",
              "    </tr>\n",
              "    <tr>\n",
              "      <th>6</th>\n",
              "      <td>2014</td>\n",
              "      <td>2814</td>\n",
              "      <td>46295</td>\n",
              "      <td>5.730111</td>\n",
              "      <td>94.269889</td>\n",
              "    </tr>\n",
              "  </tbody>\n",
              "</table>\n",
              "</div>\n",
              "      <button class=\"colab-df-convert\" onclick=\"convertToInteractive('df-4cae16b9-fc81-48aa-85e1-6cc4cd4a5b38')\"\n",
              "              title=\"Convert this dataframe to an interactive table.\"\n",
              "              style=\"display:none;\">\n",
              "        \n",
              "  <svg xmlns=\"http://www.w3.org/2000/svg\" height=\"24px\"viewBox=\"0 0 24 24\"\n",
              "       width=\"24px\">\n",
              "    <path d=\"M0 0h24v24H0V0z\" fill=\"none\"/>\n",
              "    <path d=\"M18.56 5.44l.94 2.06.94-2.06 2.06-.94-2.06-.94-.94-2.06-.94 2.06-2.06.94zm-11 1L8.5 8.5l.94-2.06 2.06-.94-2.06-.94L8.5 2.5l-.94 2.06-2.06.94zm10 10l.94 2.06.94-2.06 2.06-.94-2.06-.94-.94-2.06-.94 2.06-2.06.94z\"/><path d=\"M17.41 7.96l-1.37-1.37c-.4-.4-.92-.59-1.43-.59-.52 0-1.04.2-1.43.59L10.3 9.45l-7.72 7.72c-.78.78-.78 2.05 0 2.83L4 21.41c.39.39.9.59 1.41.59.51 0 1.02-.2 1.41-.59l7.78-7.78 2.81-2.81c.8-.78.8-2.07 0-2.86zM5.41 20L4 18.59l7.72-7.72 1.47 1.35L5.41 20z\"/>\n",
              "  </svg>\n",
              "      </button>\n",
              "      \n",
              "  <style>\n",
              "    .colab-df-container {\n",
              "      display:flex;\n",
              "      flex-wrap:wrap;\n",
              "      gap: 12px;\n",
              "    }\n",
              "\n",
              "    .colab-df-convert {\n",
              "      background-color: #E8F0FE;\n",
              "      border: none;\n",
              "      border-radius: 50%;\n",
              "      cursor: pointer;\n",
              "      display: none;\n",
              "      fill: #1967D2;\n",
              "      height: 32px;\n",
              "      padding: 0 0 0 0;\n",
              "      width: 32px;\n",
              "    }\n",
              "\n",
              "    .colab-df-convert:hover {\n",
              "      background-color: #E2EBFA;\n",
              "      box-shadow: 0px 1px 2px rgba(60, 64, 67, 0.3), 0px 1px 3px 1px rgba(60, 64, 67, 0.15);\n",
              "      fill: #174EA6;\n",
              "    }\n",
              "\n",
              "    [theme=dark] .colab-df-convert {\n",
              "      background-color: #3B4455;\n",
              "      fill: #D2E3FC;\n",
              "    }\n",
              "\n",
              "    [theme=dark] .colab-df-convert:hover {\n",
              "      background-color: #434B5C;\n",
              "      box-shadow: 0px 1px 3px 1px rgba(0, 0, 0, 0.15);\n",
              "      filter: drop-shadow(0px 1px 2px rgba(0, 0, 0, 0.3));\n",
              "      fill: #FFFFFF;\n",
              "    }\n",
              "  </style>\n",
              "\n",
              "      <script>\n",
              "        const buttonEl =\n",
              "          document.querySelector('#df-4cae16b9-fc81-48aa-85e1-6cc4cd4a5b38 button.colab-df-convert');\n",
              "        buttonEl.style.display =\n",
              "          google.colab.kernel.accessAllowed ? 'block' : 'none';\n",
              "\n",
              "        async function convertToInteractive(key) {\n",
              "          const element = document.querySelector('#df-4cae16b9-fc81-48aa-85e1-6cc4cd4a5b38');\n",
              "          const dataTable =\n",
              "            await google.colab.kernel.invokeFunction('convertToInteractive',\n",
              "                                                     [key], {});\n",
              "          if (!dataTable) return;\n",
              "\n",
              "          const docLinkHtml = 'Like what you see? Visit the ' +\n",
              "            '<a target=\"_blank\" href=https://colab.research.google.com/notebooks/data_table.ipynb>data table notebook</a>'\n",
              "            + ' to learn more about interactive tables.';\n",
              "          element.innerHTML = '';\n",
              "          dataTable['output_type'] = 'display_data';\n",
              "          await google.colab.output.renderOutput(dataTable, element);\n",
              "          const docLink = document.createElement('div');\n",
              "          docLink.innerHTML = docLinkHtml;\n",
              "          element.appendChild(docLink);\n",
              "        }\n",
              "      </script>\n",
              "    </div>\n",
              "  </div>\n",
              "  "
            ],
            "text/plain": [
              "   year  Vacant House  ...  Percent of Vacant House  Percent of Occupied House\n",
              "0  2008          4483  ...                10.882653                  89.117347\n",
              "1  2009          3583  ...                 9.071116                  90.928884\n",
              "2  2010          3635  ...                 8.142556                  91.857444\n",
              "3  2011          4213  ...                 9.379522                  90.620478\n",
              "4  2012          3013  ...                 6.677600                  93.322400\n",
              "5  2013          4215  ...                 8.801788                  91.198212\n",
              "6  2014          2814  ...                 5.730111                  94.269889\n",
              "\n",
              "[7 rows x 5 columns]"
            ]
          },
          "metadata": {},
          "execution_count": 13
        }
      ],
      "source": [
        "import pandas as pd\n",
        "import statistics\n",
        "\n",
        "house = pd.read_csv('denton_housing.csv')\n",
        "print('Shape: ',house.shape)\n",
        "house.head()\n",
        "\n",
        "\n",
        "# (1) Calculate the difference in the number of Occupied Housing Units from year to year and print it.\n",
        "# The difference must be calculated for the consecutive years such as 2008-2009, 2009-2010 etc.\n",
        "# Finally, print the values in the ascending order.\n",
        "\n",
        "# number of ocupied houses\n",
        "occuped_houses = house[house['title_field'] == 'Occupied Housing Units'].sort_values(by=['year'])\n",
        "\n",
        "# the difference in the number of Occupied Housing Units from year to year\n",
        "diff_house = [list(occuped_houses['value'].values)[loop1] - list(occuped_houses['value'].values)[loop1+1]\\\n",
        "              for loop1 in range(len(occuped_houses)-1)]\n",
        "diff_house = sorted(diff_house)    # sorting in ascending order\n",
        "diff_house\n",
        "\n",
        "\n",
        "# (2) For all the years, calculate the percentage of housing units which are vacant and occupied.\n",
        "# Print the results in the following format: Year Vacant Housing Units Occupied Housing Units\n",
        "\n",
        "unique_years = sorted(list(house['year'].unique()))   # legging list of unique year number\n",
        "\n",
        "# number of ocupied houses\n",
        "occuped_houses = house[house['title_field'] == 'Occupied Housing Units'].sort_values(by=['year'])\n",
        "\n",
        "# number of vacant houses\n",
        "vacant_houses = house[house['title_field'] == 'Vacant Housing Units'].sort_values(by=['year'])\n",
        "\n",
        "new_house_df = pd.DataFrame()\n",
        "new_house_df['year'] = unique_years\n",
        "new_house_df['Vacant House'] = vacant_houses['value'].values\n",
        "new_house_df['Occupied House'] = occuped_houses['value'].values\n",
        "new_house_df['Percent of Vacant House'] = [(new_house_df['Vacant House'][loop1] * 100) /\\\n",
        "                                           (new_house_df['Vacant House'][loop1] + new_house_df['Occupied House'][loop1])\\\n",
        "                                           for loop1 in range(len(new_house_df))]\n",
        "new_house_df['Percent of Occupied House'] = [(new_house_df['Occupied House'][loop1] * 100) /\\\n",
        "                                           (new_house_df['Vacant House'][loop1] + new_house_df['Occupied House'][loop1])\\\n",
        "                                           for loop1 in range(len(new_house_df))]\n",
        "new_house_df\n"
      ]
    }
  ],
  "metadata": {
    "colab": {
      "collapsed_sections": [],
      "name": "lab_assignment_02.ipynb",
      "provenance": [],
      "include_colab_link": true
    },
    "kernelspec": {
      "display_name": "Python 3",
      "language": "python",
      "name": "python3"
    },
    "language_info": {
      "codemirror_mode": {
        "name": "ipython",
        "version": 3
      },
      "file_extension": ".py",
      "mimetype": "text/x-python",
      "name": "python",
      "nbconvert_exporter": "python",
      "pygments_lexer": "ipython3",
      "version": "3.8.5"
    }
  },
  "nbformat": 4,
  "nbformat_minor": 0
}